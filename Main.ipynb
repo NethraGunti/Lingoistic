{
  "nbformat": 4,
  "nbformat_minor": 0,
  "metadata": {
    "colab": {
      "name": "DLprojBERT",
      "provenance": [],
      "collapsed_sections": [
        "8Mr8netqnkrf",
        "6pmvuEHznpkr",
        "3EwckWh3n1pG",
        "FVF4eqT39EFY",
        "Ez4W2TWxobIg"
      ],
      "machine_shape": "hm"
    },
    "kernelspec": {
      "name": "python3",
      "display_name": "Python 3"
    },
    "widgets": {
      "application/vnd.jupyter.widget-state+json": {
        "309af911948f4adb9e5a238207a93feb": {
          "model_module": "@jupyter-widgets/controls",
          "model_name": "HBoxModel",
          "state": {
            "_view_name": "HBoxView",
            "_dom_classes": [],
            "_model_name": "HBoxModel",
            "_view_module": "@jupyter-widgets/controls",
            "_model_module_version": "1.5.0",
            "_view_count": null,
            "_view_module_version": "1.5.0",
            "box_style": "",
            "layout": "IPY_MODEL_7e9c2439d417455ba3f9875f5df371ba",
            "_model_module": "@jupyter-widgets/controls",
            "children": [
              "IPY_MODEL_d65a666757c443b7abce47accaff5567",
              "IPY_MODEL_a7a2176e0a0a4d7f9f685232a0439ba4"
            ]
          }
        },
        "7e9c2439d417455ba3f9875f5df371ba": {
          "model_module": "@jupyter-widgets/base",
          "model_name": "LayoutModel",
          "state": {
            "_view_name": "LayoutView",
            "grid_template_rows": null,
            "right": null,
            "justify_content": null,
            "_view_module": "@jupyter-widgets/base",
            "overflow": null,
            "_model_module_version": "1.2.0",
            "_view_count": null,
            "flex_flow": null,
            "width": null,
            "min_width": null,
            "border": null,
            "align_items": null,
            "bottom": null,
            "_model_module": "@jupyter-widgets/base",
            "top": null,
            "grid_column": null,
            "overflow_y": null,
            "overflow_x": null,
            "grid_auto_flow": null,
            "grid_area": null,
            "grid_template_columns": null,
            "flex": null,
            "_model_name": "LayoutModel",
            "justify_items": null,
            "grid_row": null,
            "max_height": null,
            "align_content": null,
            "visibility": null,
            "align_self": null,
            "height": null,
            "min_height": null,
            "padding": null,
            "grid_auto_rows": null,
            "grid_gap": null,
            "max_width": null,
            "order": null,
            "_view_module_version": "1.2.0",
            "grid_template_areas": null,
            "object_position": null,
            "object_fit": null,
            "grid_auto_columns": null,
            "margin": null,
            "display": null,
            "left": null
          }
        },
        "d65a666757c443b7abce47accaff5567": {
          "model_module": "@jupyter-widgets/controls",
          "model_name": "FloatProgressModel",
          "state": {
            "_view_name": "ProgressView",
            "style": "IPY_MODEL_ceff42f5d68746769e5eb79d3e03b06a",
            "_dom_classes": [],
            "description": "100%",
            "_model_name": "FloatProgressModel",
            "bar_style": "success",
            "max": 5,
            "_view_module": "@jupyter-widgets/controls",
            "_model_module_version": "1.5.0",
            "value": 5,
            "_view_count": null,
            "_view_module_version": "1.5.0",
            "orientation": "horizontal",
            "min": 0,
            "description_tooltip": null,
            "_model_module": "@jupyter-widgets/controls",
            "layout": "IPY_MODEL_8847b4678ba643c2be45e1eb49e4a506"
          }
        },
        "a7a2176e0a0a4d7f9f685232a0439ba4": {
          "model_module": "@jupyter-widgets/controls",
          "model_name": "HTMLModel",
          "state": {
            "_view_name": "HTMLView",
            "style": "IPY_MODEL_f0aca07278c24925badb4bb51a5a0855",
            "_dom_classes": [],
            "description": "",
            "_model_name": "HTMLModel",
            "placeholder": "​",
            "_view_module": "@jupyter-widgets/controls",
            "_model_module_version": "1.5.0",
            "value": " 5/5 [1:42:53&lt;00:00, 1234.65s/it]",
            "_view_count": null,
            "_view_module_version": "1.5.0",
            "description_tooltip": null,
            "_model_module": "@jupyter-widgets/controls",
            "layout": "IPY_MODEL_f722aa124e1b40069d05ed88f706124b"
          }
        },
        "ceff42f5d68746769e5eb79d3e03b06a": {
          "model_module": "@jupyter-widgets/controls",
          "model_name": "ProgressStyleModel",
          "state": {
            "_view_name": "StyleView",
            "_model_name": "ProgressStyleModel",
            "description_width": "initial",
            "_view_module": "@jupyter-widgets/base",
            "_model_module_version": "1.5.0",
            "_view_count": null,
            "_view_module_version": "1.2.0",
            "bar_color": null,
            "_model_module": "@jupyter-widgets/controls"
          }
        },
        "8847b4678ba643c2be45e1eb49e4a506": {
          "model_module": "@jupyter-widgets/base",
          "model_name": "LayoutModel",
          "state": {
            "_view_name": "LayoutView",
            "grid_template_rows": null,
            "right": null,
            "justify_content": null,
            "_view_module": "@jupyter-widgets/base",
            "overflow": null,
            "_model_module_version": "1.2.0",
            "_view_count": null,
            "flex_flow": null,
            "width": null,
            "min_width": null,
            "border": null,
            "align_items": null,
            "bottom": null,
            "_model_module": "@jupyter-widgets/base",
            "top": null,
            "grid_column": null,
            "overflow_y": null,
            "overflow_x": null,
            "grid_auto_flow": null,
            "grid_area": null,
            "grid_template_columns": null,
            "flex": null,
            "_model_name": "LayoutModel",
            "justify_items": null,
            "grid_row": null,
            "max_height": null,
            "align_content": null,
            "visibility": null,
            "align_self": null,
            "height": null,
            "min_height": null,
            "padding": null,
            "grid_auto_rows": null,
            "grid_gap": null,
            "max_width": null,
            "order": null,
            "_view_module_version": "1.2.0",
            "grid_template_areas": null,
            "object_position": null,
            "object_fit": null,
            "grid_auto_columns": null,
            "margin": null,
            "display": null,
            "left": null
          }
        },
        "f0aca07278c24925badb4bb51a5a0855": {
          "model_module": "@jupyter-widgets/controls",
          "model_name": "DescriptionStyleModel",
          "state": {
            "_view_name": "StyleView",
            "_model_name": "DescriptionStyleModel",
            "description_width": "",
            "_view_module": "@jupyter-widgets/base",
            "_model_module_version": "1.5.0",
            "_view_count": null,
            "_view_module_version": "1.2.0",
            "_model_module": "@jupyter-widgets/controls"
          }
        },
        "f722aa124e1b40069d05ed88f706124b": {
          "model_module": "@jupyter-widgets/base",
          "model_name": "LayoutModel",
          "state": {
            "_view_name": "LayoutView",
            "grid_template_rows": null,
            "right": null,
            "justify_content": null,
            "_view_module": "@jupyter-widgets/base",
            "overflow": null,
            "_model_module_version": "1.2.0",
            "_view_count": null,
            "flex_flow": null,
            "width": null,
            "min_width": null,
            "border": null,
            "align_items": null,
            "bottom": null,
            "_model_module": "@jupyter-widgets/base",
            "top": null,
            "grid_column": null,
            "overflow_y": null,
            "overflow_x": null,
            "grid_auto_flow": null,
            "grid_area": null,
            "grid_template_columns": null,
            "flex": null,
            "_model_name": "LayoutModel",
            "justify_items": null,
            "grid_row": null,
            "max_height": null,
            "align_content": null,
            "visibility": null,
            "align_self": null,
            "height": null,
            "min_height": null,
            "padding": null,
            "grid_auto_rows": null,
            "grid_gap": null,
            "max_width": null,
            "order": null,
            "_view_module_version": "1.2.0",
            "grid_template_areas": null,
            "object_position": null,
            "object_fit": null,
            "grid_auto_columns": null,
            "margin": null,
            "display": null,
            "left": null
          }
        },
        "cefc8f47fa0a44bca27dcc6ff468600e": {
          "model_module": "@jupyter-widgets/controls",
          "model_name": "HBoxModel",
          "state": {
            "_view_name": "HBoxView",
            "_dom_classes": [],
            "_model_name": "HBoxModel",
            "_view_module": "@jupyter-widgets/controls",
            "_model_module_version": "1.5.0",
            "_view_count": null,
            "_view_module_version": "1.5.0",
            "box_style": "",
            "layout": "IPY_MODEL_e3ee114723794d0f9b00c7d449ebed76",
            "_model_module": "@jupyter-widgets/controls",
            "children": [
              "IPY_MODEL_d86da9e63066487baf345cc7de505bde",
              "IPY_MODEL_1bcb774b907b4de0a940f657f7a5fcb2"
            ]
          }
        },
        "e3ee114723794d0f9b00c7d449ebed76": {
          "model_module": "@jupyter-widgets/base",
          "model_name": "LayoutModel",
          "state": {
            "_view_name": "LayoutView",
            "grid_template_rows": null,
            "right": null,
            "justify_content": null,
            "_view_module": "@jupyter-widgets/base",
            "overflow": null,
            "_model_module_version": "1.2.0",
            "_view_count": null,
            "flex_flow": null,
            "width": null,
            "min_width": null,
            "border": null,
            "align_items": null,
            "bottom": null,
            "_model_module": "@jupyter-widgets/base",
            "top": null,
            "grid_column": null,
            "overflow_y": null,
            "overflow_x": null,
            "grid_auto_flow": null,
            "grid_area": null,
            "grid_template_columns": null,
            "flex": null,
            "_model_name": "LayoutModel",
            "justify_items": null,
            "grid_row": null,
            "max_height": null,
            "align_content": null,
            "visibility": null,
            "align_self": null,
            "height": null,
            "min_height": null,
            "padding": null,
            "grid_auto_rows": null,
            "grid_gap": null,
            "max_width": null,
            "order": null,
            "_view_module_version": "1.2.0",
            "grid_template_areas": null,
            "object_position": null,
            "object_fit": null,
            "grid_auto_columns": null,
            "margin": null,
            "display": null,
            "left": null
          }
        },
        "d86da9e63066487baf345cc7de505bde": {
          "model_module": "@jupyter-widgets/controls",
          "model_name": "FloatProgressModel",
          "state": {
            "_view_name": "ProgressView",
            "style": "IPY_MODEL_6fe1d7ab23d2472fac1d76a49b6fa10a",
            "_dom_classes": [],
            "description": "Epoch 11: 100%",
            "_model_name": "FloatProgressModel",
            "bar_style": "",
            "max": 605,
            "_view_module": "@jupyter-widgets/controls",
            "_model_module_version": "1.5.0",
            "value": 605,
            "_view_count": null,
            "_view_module_version": "1.5.0",
            "orientation": "horizontal",
            "min": 0,
            "description_tooltip": null,
            "_model_module": "@jupyter-widgets/controls",
            "layout": "IPY_MODEL_f42cec1ee2e04522b523ce3b0d76e12c"
          }
        },
        "1bcb774b907b4de0a940f657f7a5fcb2": {
          "model_module": "@jupyter-widgets/controls",
          "model_name": "HTMLModel",
          "state": {
            "_view_name": "HTMLView",
            "style": "IPY_MODEL_f96cd8d5360f4e0bb189d8cbc3ff9363",
            "_dom_classes": [],
            "description": "",
            "_model_name": "HTMLModel",
            "placeholder": "​",
            "_view_module": "@jupyter-widgets/controls",
            "_model_module_version": "1.5.0",
            "value": " 605/605 [20:24&lt;00:00,  2.05s/it, training_loss=0.037]",
            "_view_count": null,
            "_view_module_version": "1.5.0",
            "description_tooltip": null,
            "_model_module": "@jupyter-widgets/controls",
            "layout": "IPY_MODEL_76e394b1a4444f40931ccd01bb63d96b"
          }
        },
        "6fe1d7ab23d2472fac1d76a49b6fa10a": {
          "model_module": "@jupyter-widgets/controls",
          "model_name": "ProgressStyleModel",
          "state": {
            "_view_name": "StyleView",
            "_model_name": "ProgressStyleModel",
            "description_width": "initial",
            "_view_module": "@jupyter-widgets/base",
            "_model_module_version": "1.5.0",
            "_view_count": null,
            "_view_module_version": "1.2.0",
            "bar_color": null,
            "_model_module": "@jupyter-widgets/controls"
          }
        },
        "f42cec1ee2e04522b523ce3b0d76e12c": {
          "model_module": "@jupyter-widgets/base",
          "model_name": "LayoutModel",
          "state": {
            "_view_name": "LayoutView",
            "grid_template_rows": null,
            "right": null,
            "justify_content": null,
            "_view_module": "@jupyter-widgets/base",
            "overflow": null,
            "_model_module_version": "1.2.0",
            "_view_count": null,
            "flex_flow": null,
            "width": null,
            "min_width": null,
            "border": null,
            "align_items": null,
            "bottom": null,
            "_model_module": "@jupyter-widgets/base",
            "top": null,
            "grid_column": null,
            "overflow_y": null,
            "overflow_x": null,
            "grid_auto_flow": null,
            "grid_area": null,
            "grid_template_columns": null,
            "flex": null,
            "_model_name": "LayoutModel",
            "justify_items": null,
            "grid_row": null,
            "max_height": null,
            "align_content": null,
            "visibility": null,
            "align_self": null,
            "height": null,
            "min_height": null,
            "padding": null,
            "grid_auto_rows": null,
            "grid_gap": null,
            "max_width": null,
            "order": null,
            "_view_module_version": "1.2.0",
            "grid_template_areas": null,
            "object_position": null,
            "object_fit": null,
            "grid_auto_columns": null,
            "margin": null,
            "display": null,
            "left": null
          }
        },
        "f96cd8d5360f4e0bb189d8cbc3ff9363": {
          "model_module": "@jupyter-widgets/controls",
          "model_name": "DescriptionStyleModel",
          "state": {
            "_view_name": "StyleView",
            "_model_name": "DescriptionStyleModel",
            "description_width": "",
            "_view_module": "@jupyter-widgets/base",
            "_model_module_version": "1.5.0",
            "_view_count": null,
            "_view_module_version": "1.2.0",
            "_model_module": "@jupyter-widgets/controls"
          }
        },
        "76e394b1a4444f40931ccd01bb63d96b": {
          "model_module": "@jupyter-widgets/base",
          "model_name": "LayoutModel",
          "state": {
            "_view_name": "LayoutView",
            "grid_template_rows": null,
            "right": null,
            "justify_content": null,
            "_view_module": "@jupyter-widgets/base",
            "overflow": null,
            "_model_module_version": "1.2.0",
            "_view_count": null,
            "flex_flow": null,
            "width": null,
            "min_width": null,
            "border": null,
            "align_items": null,
            "bottom": null,
            "_model_module": "@jupyter-widgets/base",
            "top": null,
            "grid_column": null,
            "overflow_y": null,
            "overflow_x": null,
            "grid_auto_flow": null,
            "grid_area": null,
            "grid_template_columns": null,
            "flex": null,
            "_model_name": "LayoutModel",
            "justify_items": null,
            "grid_row": null,
            "max_height": null,
            "align_content": null,
            "visibility": null,
            "align_self": null,
            "height": null,
            "min_height": null,
            "padding": null,
            "grid_auto_rows": null,
            "grid_gap": null,
            "max_width": null,
            "order": null,
            "_view_module_version": "1.2.0",
            "grid_template_areas": null,
            "object_position": null,
            "object_fit": null,
            "grid_auto_columns": null,
            "margin": null,
            "display": null,
            "left": null
          }
        },
        "83614bd959934f46a00c5fd0d07269f2": {
          "model_module": "@jupyter-widgets/controls",
          "model_name": "HBoxModel",
          "state": {
            "_view_name": "HBoxView",
            "_dom_classes": [],
            "_model_name": "HBoxModel",
            "_view_module": "@jupyter-widgets/controls",
            "_model_module_version": "1.5.0",
            "_view_count": null,
            "_view_module_version": "1.5.0",
            "box_style": "",
            "layout": "IPY_MODEL_976a8dc13cab4cc0bb16c4c6b027fab2",
            "_model_module": "@jupyter-widgets/controls",
            "children": [
              "IPY_MODEL_980545b5a5c94e3a87e7a45076689444",
              "IPY_MODEL_fbe6e55cb4994efb8b28d280457a21eb"
            ]
          }
        },
        "976a8dc13cab4cc0bb16c4c6b027fab2": {
          "model_module": "@jupyter-widgets/base",
          "model_name": "LayoutModel",
          "state": {
            "_view_name": "LayoutView",
            "grid_template_rows": null,
            "right": null,
            "justify_content": null,
            "_view_module": "@jupyter-widgets/base",
            "overflow": null,
            "_model_module_version": "1.2.0",
            "_view_count": null,
            "flex_flow": null,
            "width": null,
            "min_width": null,
            "border": null,
            "align_items": null,
            "bottom": null,
            "_model_module": "@jupyter-widgets/base",
            "top": null,
            "grid_column": null,
            "overflow_y": null,
            "overflow_x": null,
            "grid_auto_flow": null,
            "grid_area": null,
            "grid_template_columns": null,
            "flex": null,
            "_model_name": "LayoutModel",
            "justify_items": null,
            "grid_row": null,
            "max_height": null,
            "align_content": null,
            "visibility": null,
            "align_self": null,
            "height": null,
            "min_height": null,
            "padding": null,
            "grid_auto_rows": null,
            "grid_gap": null,
            "max_width": null,
            "order": null,
            "_view_module_version": "1.2.0",
            "grid_template_areas": null,
            "object_position": null,
            "object_fit": null,
            "grid_auto_columns": null,
            "margin": null,
            "display": null,
            "left": null
          }
        },
        "980545b5a5c94e3a87e7a45076689444": {
          "model_module": "@jupyter-widgets/controls",
          "model_name": "FloatProgressModel",
          "state": {
            "_view_name": "ProgressView",
            "style": "IPY_MODEL_34d9ca3f044447ce8965e6710566f0c4",
            "_dom_classes": [],
            "description": "Epoch 12: 100%",
            "_model_name": "FloatProgressModel",
            "bar_style": "",
            "max": 605,
            "_view_module": "@jupyter-widgets/controls",
            "_model_module_version": "1.5.0",
            "value": 605,
            "_view_count": null,
            "_view_module_version": "1.5.0",
            "orientation": "horizontal",
            "min": 0,
            "description_tooltip": null,
            "_model_module": "@jupyter-widgets/controls",
            "layout": "IPY_MODEL_788709f2bf24415eab2605481dec9554"
          }
        },
        "fbe6e55cb4994efb8b28d280457a21eb": {
          "model_module": "@jupyter-widgets/controls",
          "model_name": "HTMLModel",
          "state": {
            "_view_name": "HTMLView",
            "style": "IPY_MODEL_8cd199acd28e45bba6d59437d84d9532",
            "_dom_classes": [],
            "description": "",
            "_model_name": "HTMLModel",
            "placeholder": "​",
            "_view_module": "@jupyter-widgets/controls",
            "_model_module_version": "1.5.0",
            "value": " 605/605 [20:34&lt;00:00,  2.04s/it, training_loss=0.084]",
            "_view_count": null,
            "_view_module_version": "1.5.0",
            "description_tooltip": null,
            "_model_module": "@jupyter-widgets/controls",
            "layout": "IPY_MODEL_35be694e94524a1d82e76f6a54875b07"
          }
        },
        "34d9ca3f044447ce8965e6710566f0c4": {
          "model_module": "@jupyter-widgets/controls",
          "model_name": "ProgressStyleModel",
          "state": {
            "_view_name": "StyleView",
            "_model_name": "ProgressStyleModel",
            "description_width": "initial",
            "_view_module": "@jupyter-widgets/base",
            "_model_module_version": "1.5.0",
            "_view_count": null,
            "_view_module_version": "1.2.0",
            "bar_color": null,
            "_model_module": "@jupyter-widgets/controls"
          }
        },
        "788709f2bf24415eab2605481dec9554": {
          "model_module": "@jupyter-widgets/base",
          "model_name": "LayoutModel",
          "state": {
            "_view_name": "LayoutView",
            "grid_template_rows": null,
            "right": null,
            "justify_content": null,
            "_view_module": "@jupyter-widgets/base",
            "overflow": null,
            "_model_module_version": "1.2.0",
            "_view_count": null,
            "flex_flow": null,
            "width": null,
            "min_width": null,
            "border": null,
            "align_items": null,
            "bottom": null,
            "_model_module": "@jupyter-widgets/base",
            "top": null,
            "grid_column": null,
            "overflow_y": null,
            "overflow_x": null,
            "grid_auto_flow": null,
            "grid_area": null,
            "grid_template_columns": null,
            "flex": null,
            "_model_name": "LayoutModel",
            "justify_items": null,
            "grid_row": null,
            "max_height": null,
            "align_content": null,
            "visibility": null,
            "align_self": null,
            "height": null,
            "min_height": null,
            "padding": null,
            "grid_auto_rows": null,
            "grid_gap": null,
            "max_width": null,
            "order": null,
            "_view_module_version": "1.2.0",
            "grid_template_areas": null,
            "object_position": null,
            "object_fit": null,
            "grid_auto_columns": null,
            "margin": null,
            "display": null,
            "left": null
          }
        },
        "8cd199acd28e45bba6d59437d84d9532": {
          "model_module": "@jupyter-widgets/controls",
          "model_name": "DescriptionStyleModel",
          "state": {
            "_view_name": "StyleView",
            "_model_name": "DescriptionStyleModel",
            "description_width": "",
            "_view_module": "@jupyter-widgets/base",
            "_model_module_version": "1.5.0",
            "_view_count": null,
            "_view_module_version": "1.2.0",
            "_model_module": "@jupyter-widgets/controls"
          }
        },
        "35be694e94524a1d82e76f6a54875b07": {
          "model_module": "@jupyter-widgets/base",
          "model_name": "LayoutModel",
          "state": {
            "_view_name": "LayoutView",
            "grid_template_rows": null,
            "right": null,
            "justify_content": null,
            "_view_module": "@jupyter-widgets/base",
            "overflow": null,
            "_model_module_version": "1.2.0",
            "_view_count": null,
            "flex_flow": null,
            "width": null,
            "min_width": null,
            "border": null,
            "align_items": null,
            "bottom": null,
            "_model_module": "@jupyter-widgets/base",
            "top": null,
            "grid_column": null,
            "overflow_y": null,
            "overflow_x": null,
            "grid_auto_flow": null,
            "grid_area": null,
            "grid_template_columns": null,
            "flex": null,
            "_model_name": "LayoutModel",
            "justify_items": null,
            "grid_row": null,
            "max_height": null,
            "align_content": null,
            "visibility": null,
            "align_self": null,
            "height": null,
            "min_height": null,
            "padding": null,
            "grid_auto_rows": null,
            "grid_gap": null,
            "max_width": null,
            "order": null,
            "_view_module_version": "1.2.0",
            "grid_template_areas": null,
            "object_position": null,
            "object_fit": null,
            "grid_auto_columns": null,
            "margin": null,
            "display": null,
            "left": null
          }
        },
        "fe23a962f93048179f33163b52867fa5": {
          "model_module": "@jupyter-widgets/controls",
          "model_name": "HBoxModel",
          "state": {
            "_view_name": "HBoxView",
            "_dom_classes": [],
            "_model_name": "HBoxModel",
            "_view_module": "@jupyter-widgets/controls",
            "_model_module_version": "1.5.0",
            "_view_count": null,
            "_view_module_version": "1.5.0",
            "box_style": "",
            "layout": "IPY_MODEL_0850a92f070f4e318960c9294e5a2a76",
            "_model_module": "@jupyter-widgets/controls",
            "children": [
              "IPY_MODEL_66047d6b27a44d43ab93a82e17143ba8",
              "IPY_MODEL_3e884e23fd8646f98153029b9f41e079"
            ]
          }
        },
        "0850a92f070f4e318960c9294e5a2a76": {
          "model_module": "@jupyter-widgets/base",
          "model_name": "LayoutModel",
          "state": {
            "_view_name": "LayoutView",
            "grid_template_rows": null,
            "right": null,
            "justify_content": null,
            "_view_module": "@jupyter-widgets/base",
            "overflow": null,
            "_model_module_version": "1.2.0",
            "_view_count": null,
            "flex_flow": null,
            "width": null,
            "min_width": null,
            "border": null,
            "align_items": null,
            "bottom": null,
            "_model_module": "@jupyter-widgets/base",
            "top": null,
            "grid_column": null,
            "overflow_y": null,
            "overflow_x": null,
            "grid_auto_flow": null,
            "grid_area": null,
            "grid_template_columns": null,
            "flex": null,
            "_model_name": "LayoutModel",
            "justify_items": null,
            "grid_row": null,
            "max_height": null,
            "align_content": null,
            "visibility": null,
            "align_self": null,
            "height": null,
            "min_height": null,
            "padding": null,
            "grid_auto_rows": null,
            "grid_gap": null,
            "max_width": null,
            "order": null,
            "_view_module_version": "1.2.0",
            "grid_template_areas": null,
            "object_position": null,
            "object_fit": null,
            "grid_auto_columns": null,
            "margin": null,
            "display": null,
            "left": null
          }
        },
        "66047d6b27a44d43ab93a82e17143ba8": {
          "model_module": "@jupyter-widgets/controls",
          "model_name": "FloatProgressModel",
          "state": {
            "_view_name": "ProgressView",
            "style": "IPY_MODEL_096bef67f5714fabade26e8a32d64759",
            "_dom_classes": [],
            "description": "Epoch 13: 100%",
            "_model_name": "FloatProgressModel",
            "bar_style": "",
            "max": 605,
            "_view_module": "@jupyter-widgets/controls",
            "_model_module_version": "1.5.0",
            "value": 605,
            "_view_count": null,
            "_view_module_version": "1.5.0",
            "orientation": "horizontal",
            "min": 0,
            "description_tooltip": null,
            "_model_module": "@jupyter-widgets/controls",
            "layout": "IPY_MODEL_0e35ed52aabe40ab808e07d8c3ad7484"
          }
        },
        "3e884e23fd8646f98153029b9f41e079": {
          "model_module": "@jupyter-widgets/controls",
          "model_name": "HTMLModel",
          "state": {
            "_view_name": "HTMLView",
            "style": "IPY_MODEL_d39ea54ffdc449ebbf09571cb4a9bb6b",
            "_dom_classes": [],
            "description": "",
            "_model_name": "HTMLModel",
            "placeholder": "​",
            "_view_module": "@jupyter-widgets/controls",
            "_model_module_version": "1.5.0",
            "value": " 605/605 [20:34&lt;00:00,  2.03s/it, training_loss=0.059]",
            "_view_count": null,
            "_view_module_version": "1.5.0",
            "description_tooltip": null,
            "_model_module": "@jupyter-widgets/controls",
            "layout": "IPY_MODEL_b8f61291fc4a4fac8dcdc58b1ed2ebae"
          }
        },
        "096bef67f5714fabade26e8a32d64759": {
          "model_module": "@jupyter-widgets/controls",
          "model_name": "ProgressStyleModel",
          "state": {
            "_view_name": "StyleView",
            "_model_name": "ProgressStyleModel",
            "description_width": "initial",
            "_view_module": "@jupyter-widgets/base",
            "_model_module_version": "1.5.0",
            "_view_count": null,
            "_view_module_version": "1.2.0",
            "bar_color": null,
            "_model_module": "@jupyter-widgets/controls"
          }
        },
        "0e35ed52aabe40ab808e07d8c3ad7484": {
          "model_module": "@jupyter-widgets/base",
          "model_name": "LayoutModel",
          "state": {
            "_view_name": "LayoutView",
            "grid_template_rows": null,
            "right": null,
            "justify_content": null,
            "_view_module": "@jupyter-widgets/base",
            "overflow": null,
            "_model_module_version": "1.2.0",
            "_view_count": null,
            "flex_flow": null,
            "width": null,
            "min_width": null,
            "border": null,
            "align_items": null,
            "bottom": null,
            "_model_module": "@jupyter-widgets/base",
            "top": null,
            "grid_column": null,
            "overflow_y": null,
            "overflow_x": null,
            "grid_auto_flow": null,
            "grid_area": null,
            "grid_template_columns": null,
            "flex": null,
            "_model_name": "LayoutModel",
            "justify_items": null,
            "grid_row": null,
            "max_height": null,
            "align_content": null,
            "visibility": null,
            "align_self": null,
            "height": null,
            "min_height": null,
            "padding": null,
            "grid_auto_rows": null,
            "grid_gap": null,
            "max_width": null,
            "order": null,
            "_view_module_version": "1.2.0",
            "grid_template_areas": null,
            "object_position": null,
            "object_fit": null,
            "grid_auto_columns": null,
            "margin": null,
            "display": null,
            "left": null
          }
        },
        "d39ea54ffdc449ebbf09571cb4a9bb6b": {
          "model_module": "@jupyter-widgets/controls",
          "model_name": "DescriptionStyleModel",
          "state": {
            "_view_name": "StyleView",
            "_model_name": "DescriptionStyleModel",
            "description_width": "",
            "_view_module": "@jupyter-widgets/base",
            "_model_module_version": "1.5.0",
            "_view_count": null,
            "_view_module_version": "1.2.0",
            "_model_module": "@jupyter-widgets/controls"
          }
        },
        "b8f61291fc4a4fac8dcdc58b1ed2ebae": {
          "model_module": "@jupyter-widgets/base",
          "model_name": "LayoutModel",
          "state": {
            "_view_name": "LayoutView",
            "grid_template_rows": null,
            "right": null,
            "justify_content": null,
            "_view_module": "@jupyter-widgets/base",
            "overflow": null,
            "_model_module_version": "1.2.0",
            "_view_count": null,
            "flex_flow": null,
            "width": null,
            "min_width": null,
            "border": null,
            "align_items": null,
            "bottom": null,
            "_model_module": "@jupyter-widgets/base",
            "top": null,
            "grid_column": null,
            "overflow_y": null,
            "overflow_x": null,
            "grid_auto_flow": null,
            "grid_area": null,
            "grid_template_columns": null,
            "flex": null,
            "_model_name": "LayoutModel",
            "justify_items": null,
            "grid_row": null,
            "max_height": null,
            "align_content": null,
            "visibility": null,
            "align_self": null,
            "height": null,
            "min_height": null,
            "padding": null,
            "grid_auto_rows": null,
            "grid_gap": null,
            "max_width": null,
            "order": null,
            "_view_module_version": "1.2.0",
            "grid_template_areas": null,
            "object_position": null,
            "object_fit": null,
            "grid_auto_columns": null,
            "margin": null,
            "display": null,
            "left": null
          }
        },
        "191dac85075c42d9b801208beede489d": {
          "model_module": "@jupyter-widgets/controls",
          "model_name": "HBoxModel",
          "state": {
            "_view_name": "HBoxView",
            "_dom_classes": [],
            "_model_name": "HBoxModel",
            "_view_module": "@jupyter-widgets/controls",
            "_model_module_version": "1.5.0",
            "_view_count": null,
            "_view_module_version": "1.5.0",
            "box_style": "",
            "layout": "IPY_MODEL_4762533a9b1d4e23bb750c1f85cc913b",
            "_model_module": "@jupyter-widgets/controls",
            "children": [
              "IPY_MODEL_8cab5ebad47e4f26ba2055e7468aae6b",
              "IPY_MODEL_be1f735cdbf147dbac55c5c99474751c"
            ]
          }
        },
        "4762533a9b1d4e23bb750c1f85cc913b": {
          "model_module": "@jupyter-widgets/base",
          "model_name": "LayoutModel",
          "state": {
            "_view_name": "LayoutView",
            "grid_template_rows": null,
            "right": null,
            "justify_content": null,
            "_view_module": "@jupyter-widgets/base",
            "overflow": null,
            "_model_module_version": "1.2.0",
            "_view_count": null,
            "flex_flow": null,
            "width": null,
            "min_width": null,
            "border": null,
            "align_items": null,
            "bottom": null,
            "_model_module": "@jupyter-widgets/base",
            "top": null,
            "grid_column": null,
            "overflow_y": null,
            "overflow_x": null,
            "grid_auto_flow": null,
            "grid_area": null,
            "grid_template_columns": null,
            "flex": null,
            "_model_name": "LayoutModel",
            "justify_items": null,
            "grid_row": null,
            "max_height": null,
            "align_content": null,
            "visibility": null,
            "align_self": null,
            "height": null,
            "min_height": null,
            "padding": null,
            "grid_auto_rows": null,
            "grid_gap": null,
            "max_width": null,
            "order": null,
            "_view_module_version": "1.2.0",
            "grid_template_areas": null,
            "object_position": null,
            "object_fit": null,
            "grid_auto_columns": null,
            "margin": null,
            "display": null,
            "left": null
          }
        },
        "8cab5ebad47e4f26ba2055e7468aae6b": {
          "model_module": "@jupyter-widgets/controls",
          "model_name": "FloatProgressModel",
          "state": {
            "_view_name": "ProgressView",
            "style": "IPY_MODEL_634c38d09d2e4ab499a330906a387f88",
            "_dom_classes": [],
            "description": "Epoch 14: 100%",
            "_model_name": "FloatProgressModel",
            "bar_style": "",
            "max": 605,
            "_view_module": "@jupyter-widgets/controls",
            "_model_module_version": "1.5.0",
            "value": 605,
            "_view_count": null,
            "_view_module_version": "1.5.0",
            "orientation": "horizontal",
            "min": 0,
            "description_tooltip": null,
            "_model_module": "@jupyter-widgets/controls",
            "layout": "IPY_MODEL_3c9c390414a648349735624bba265987"
          }
        },
        "be1f735cdbf147dbac55c5c99474751c": {
          "model_module": "@jupyter-widgets/controls",
          "model_name": "HTMLModel",
          "state": {
            "_view_name": "HTMLView",
            "style": "IPY_MODEL_1e19b56e59ae4e3da5be66a94b209098",
            "_dom_classes": [],
            "description": "",
            "_model_name": "HTMLModel",
            "placeholder": "​",
            "_view_module": "@jupyter-widgets/controls",
            "_model_module_version": "1.5.0",
            "value": " 605/605 [20:34&lt;00:00,  2.04s/it, training_loss=0.042]",
            "_view_count": null,
            "_view_module_version": "1.5.0",
            "description_tooltip": null,
            "_model_module": "@jupyter-widgets/controls",
            "layout": "IPY_MODEL_19e667c8722042eb9cddf9bd4c6b5705"
          }
        },
        "634c38d09d2e4ab499a330906a387f88": {
          "model_module": "@jupyter-widgets/controls",
          "model_name": "ProgressStyleModel",
          "state": {
            "_view_name": "StyleView",
            "_model_name": "ProgressStyleModel",
            "description_width": "initial",
            "_view_module": "@jupyter-widgets/base",
            "_model_module_version": "1.5.0",
            "_view_count": null,
            "_view_module_version": "1.2.0",
            "bar_color": null,
            "_model_module": "@jupyter-widgets/controls"
          }
        },
        "3c9c390414a648349735624bba265987": {
          "model_module": "@jupyter-widgets/base",
          "model_name": "LayoutModel",
          "state": {
            "_view_name": "LayoutView",
            "grid_template_rows": null,
            "right": null,
            "justify_content": null,
            "_view_module": "@jupyter-widgets/base",
            "overflow": null,
            "_model_module_version": "1.2.0",
            "_view_count": null,
            "flex_flow": null,
            "width": null,
            "min_width": null,
            "border": null,
            "align_items": null,
            "bottom": null,
            "_model_module": "@jupyter-widgets/base",
            "top": null,
            "grid_column": null,
            "overflow_y": null,
            "overflow_x": null,
            "grid_auto_flow": null,
            "grid_area": null,
            "grid_template_columns": null,
            "flex": null,
            "_model_name": "LayoutModel",
            "justify_items": null,
            "grid_row": null,
            "max_height": null,
            "align_content": null,
            "visibility": null,
            "align_self": null,
            "height": null,
            "min_height": null,
            "padding": null,
            "grid_auto_rows": null,
            "grid_gap": null,
            "max_width": null,
            "order": null,
            "_view_module_version": "1.2.0",
            "grid_template_areas": null,
            "object_position": null,
            "object_fit": null,
            "grid_auto_columns": null,
            "margin": null,
            "display": null,
            "left": null
          }
        },
        "1e19b56e59ae4e3da5be66a94b209098": {
          "model_module": "@jupyter-widgets/controls",
          "model_name": "DescriptionStyleModel",
          "state": {
            "_view_name": "StyleView",
            "_model_name": "DescriptionStyleModel",
            "description_width": "",
            "_view_module": "@jupyter-widgets/base",
            "_model_module_version": "1.5.0",
            "_view_count": null,
            "_view_module_version": "1.2.0",
            "_model_module": "@jupyter-widgets/controls"
          }
        },
        "19e667c8722042eb9cddf9bd4c6b5705": {
          "model_module": "@jupyter-widgets/base",
          "model_name": "LayoutModel",
          "state": {
            "_view_name": "LayoutView",
            "grid_template_rows": null,
            "right": null,
            "justify_content": null,
            "_view_module": "@jupyter-widgets/base",
            "overflow": null,
            "_model_module_version": "1.2.0",
            "_view_count": null,
            "flex_flow": null,
            "width": null,
            "min_width": null,
            "border": null,
            "align_items": null,
            "bottom": null,
            "_model_module": "@jupyter-widgets/base",
            "top": null,
            "grid_column": null,
            "overflow_y": null,
            "overflow_x": null,
            "grid_auto_flow": null,
            "grid_area": null,
            "grid_template_columns": null,
            "flex": null,
            "_model_name": "LayoutModel",
            "justify_items": null,
            "grid_row": null,
            "max_height": null,
            "align_content": null,
            "visibility": null,
            "align_self": null,
            "height": null,
            "min_height": null,
            "padding": null,
            "grid_auto_rows": null,
            "grid_gap": null,
            "max_width": null,
            "order": null,
            "_view_module_version": "1.2.0",
            "grid_template_areas": null,
            "object_position": null,
            "object_fit": null,
            "grid_auto_columns": null,
            "margin": null,
            "display": null,
            "left": null
          }
        },
        "85da56fa830443b8b37246ba27c37e94": {
          "model_module": "@jupyter-widgets/controls",
          "model_name": "HBoxModel",
          "state": {
            "_view_name": "HBoxView",
            "_dom_classes": [],
            "_model_name": "HBoxModel",
            "_view_module": "@jupyter-widgets/controls",
            "_model_module_version": "1.5.0",
            "_view_count": null,
            "_view_module_version": "1.5.0",
            "box_style": "",
            "layout": "IPY_MODEL_2e8c6f1463eb4602a696d9fd4cf6618f",
            "_model_module": "@jupyter-widgets/controls",
            "children": [
              "IPY_MODEL_fe053d20e62a40eb991e8c877aa4f94b",
              "IPY_MODEL_6b929678061e4fbe8abeb84b951ea20e"
            ]
          }
        },
        "2e8c6f1463eb4602a696d9fd4cf6618f": {
          "model_module": "@jupyter-widgets/base",
          "model_name": "LayoutModel",
          "state": {
            "_view_name": "LayoutView",
            "grid_template_rows": null,
            "right": null,
            "justify_content": null,
            "_view_module": "@jupyter-widgets/base",
            "overflow": null,
            "_model_module_version": "1.2.0",
            "_view_count": null,
            "flex_flow": null,
            "width": null,
            "min_width": null,
            "border": null,
            "align_items": null,
            "bottom": null,
            "_model_module": "@jupyter-widgets/base",
            "top": null,
            "grid_column": null,
            "overflow_y": null,
            "overflow_x": null,
            "grid_auto_flow": null,
            "grid_area": null,
            "grid_template_columns": null,
            "flex": null,
            "_model_name": "LayoutModel",
            "justify_items": null,
            "grid_row": null,
            "max_height": null,
            "align_content": null,
            "visibility": null,
            "align_self": null,
            "height": null,
            "min_height": null,
            "padding": null,
            "grid_auto_rows": null,
            "grid_gap": null,
            "max_width": null,
            "order": null,
            "_view_module_version": "1.2.0",
            "grid_template_areas": null,
            "object_position": null,
            "object_fit": null,
            "grid_auto_columns": null,
            "margin": null,
            "display": null,
            "left": null
          }
        },
        "fe053d20e62a40eb991e8c877aa4f94b": {
          "model_module": "@jupyter-widgets/controls",
          "model_name": "FloatProgressModel",
          "state": {
            "_view_name": "ProgressView",
            "style": "IPY_MODEL_ec3b51afbb134b9786c0e83486392152",
            "_dom_classes": [],
            "description": "Epoch 15: 100%",
            "_model_name": "FloatProgressModel",
            "bar_style": "",
            "max": 605,
            "_view_module": "@jupyter-widgets/controls",
            "_model_module_version": "1.5.0",
            "value": 605,
            "_view_count": null,
            "_view_module_version": "1.5.0",
            "orientation": "horizontal",
            "min": 0,
            "description_tooltip": null,
            "_model_module": "@jupyter-widgets/controls",
            "layout": "IPY_MODEL_0c2bfb0f892c4a35b3e3741ac90ef61a"
          }
        },
        "6b929678061e4fbe8abeb84b951ea20e": {
          "model_module": "@jupyter-widgets/controls",
          "model_name": "HTMLModel",
          "state": {
            "_view_name": "HTMLView",
            "style": "IPY_MODEL_e57e6c30a33f40b7b9c88ad221c5ac96",
            "_dom_classes": [],
            "description": "",
            "_model_name": "HTMLModel",
            "placeholder": "​",
            "_view_module": "@jupyter-widgets/controls",
            "_model_module_version": "1.5.0",
            "value": " 605/605 [20:36&lt;00:00,  2.05s/it, training_loss=0.066]",
            "_view_count": null,
            "_view_module_version": "1.5.0",
            "description_tooltip": null,
            "_model_module": "@jupyter-widgets/controls",
            "layout": "IPY_MODEL_32a10a0d54534e2cad09c3c39d18b4ee"
          }
        },
        "ec3b51afbb134b9786c0e83486392152": {
          "model_module": "@jupyter-widgets/controls",
          "model_name": "ProgressStyleModel",
          "state": {
            "_view_name": "StyleView",
            "_model_name": "ProgressStyleModel",
            "description_width": "initial",
            "_view_module": "@jupyter-widgets/base",
            "_model_module_version": "1.5.0",
            "_view_count": null,
            "_view_module_version": "1.2.0",
            "bar_color": null,
            "_model_module": "@jupyter-widgets/controls"
          }
        },
        "0c2bfb0f892c4a35b3e3741ac90ef61a": {
          "model_module": "@jupyter-widgets/base",
          "model_name": "LayoutModel",
          "state": {
            "_view_name": "LayoutView",
            "grid_template_rows": null,
            "right": null,
            "justify_content": null,
            "_view_module": "@jupyter-widgets/base",
            "overflow": null,
            "_model_module_version": "1.2.0",
            "_view_count": null,
            "flex_flow": null,
            "width": null,
            "min_width": null,
            "border": null,
            "align_items": null,
            "bottom": null,
            "_model_module": "@jupyter-widgets/base",
            "top": null,
            "grid_column": null,
            "overflow_y": null,
            "overflow_x": null,
            "grid_auto_flow": null,
            "grid_area": null,
            "grid_template_columns": null,
            "flex": null,
            "_model_name": "LayoutModel",
            "justify_items": null,
            "grid_row": null,
            "max_height": null,
            "align_content": null,
            "visibility": null,
            "align_self": null,
            "height": null,
            "min_height": null,
            "padding": null,
            "grid_auto_rows": null,
            "grid_gap": null,
            "max_width": null,
            "order": null,
            "_view_module_version": "1.2.0",
            "grid_template_areas": null,
            "object_position": null,
            "object_fit": null,
            "grid_auto_columns": null,
            "margin": null,
            "display": null,
            "left": null
          }
        },
        "e57e6c30a33f40b7b9c88ad221c5ac96": {
          "model_module": "@jupyter-widgets/controls",
          "model_name": "DescriptionStyleModel",
          "state": {
            "_view_name": "StyleView",
            "_model_name": "DescriptionStyleModel",
            "description_width": "",
            "_view_module": "@jupyter-widgets/base",
            "_model_module_version": "1.5.0",
            "_view_count": null,
            "_view_module_version": "1.2.0",
            "_model_module": "@jupyter-widgets/controls"
          }
        },
        "32a10a0d54534e2cad09c3c39d18b4ee": {
          "model_module": "@jupyter-widgets/base",
          "model_name": "LayoutModel",
          "state": {
            "_view_name": "LayoutView",
            "grid_template_rows": null,
            "right": null,
            "justify_content": null,
            "_view_module": "@jupyter-widgets/base",
            "overflow": null,
            "_model_module_version": "1.2.0",
            "_view_count": null,
            "flex_flow": null,
            "width": null,
            "min_width": null,
            "border": null,
            "align_items": null,
            "bottom": null,
            "_model_module": "@jupyter-widgets/base",
            "top": null,
            "grid_column": null,
            "overflow_y": null,
            "overflow_x": null,
            "grid_auto_flow": null,
            "grid_area": null,
            "grid_template_columns": null,
            "flex": null,
            "_model_name": "LayoutModel",
            "justify_items": null,
            "grid_row": null,
            "max_height": null,
            "align_content": null,
            "visibility": null,
            "align_self": null,
            "height": null,
            "min_height": null,
            "padding": null,
            "grid_auto_rows": null,
            "grid_gap": null,
            "max_width": null,
            "order": null,
            "_view_module_version": "1.2.0",
            "grid_template_areas": null,
            "object_position": null,
            "object_fit": null,
            "grid_auto_columns": null,
            "margin": null,
            "display": null,
            "left": null
          }
        }
      }
    },
    "accelerator": "GPU"
  },
  "cells": [
    {
      "cell_type": "markdown",
      "metadata": {
        "id": "8Mr8netqnkrf"
      },
      "source": [
        "# Setup"
      ]
    },
    {
      "cell_type": "code",
      "metadata": {
        "id": "cmEdnkIh4Zu-",
        "colab": {
          "base_uri": "https://localhost:8080/"
        },
        "outputId": "c532cafe-747d-4331-b6be-b769ab426f05"
      },
      "source": [
        "from google.colab import drive\n",
        "drive.mount('/content/drive')"
      ],
      "execution_count": 1,
      "outputs": [
        {
          "output_type": "stream",
          "text": [
            "Drive already mounted at /content/drive; to attempt to forcibly remount, call drive.mount(\"/content/drive\", force_remount=True).\n"
          ],
          "name": "stdout"
        }
      ]
    },
    {
      "cell_type": "code",
      "metadata": {
        "id": "9p8IqOisU_8-"
      },
      "source": [
        "!rm -Rf sample_data\n",
        "!cp /content/drive/MyDrive/DLProject/NLI/dataset.csv ."
      ],
      "execution_count": 2,
      "outputs": []
    },
    {
      "cell_type": "code",
      "metadata": {
        "colab": {
          "base_uri": "https://localhost:8080/"
        },
        "id": "9z9rmkkJVz0o",
        "outputId": "4db4dc0a-3e15-4947-caef-d50fc3902d3f"
      },
      "source": [
        "!pip install transformers"
      ],
      "execution_count": 3,
      "outputs": [
        {
          "output_type": "stream",
          "text": [
            "Requirement already satisfied: transformers in /usr/local/lib/python3.7/dist-packages (4.5.1)\n",
            "Requirement already satisfied: importlib-metadata; python_version < \"3.8\" in /usr/local/lib/python3.7/dist-packages (from transformers) (3.10.1)\n",
            "Requirement already satisfied: filelock in /usr/local/lib/python3.7/dist-packages (from transformers) (3.0.12)\n",
            "Requirement already satisfied: packaging in /usr/local/lib/python3.7/dist-packages (from transformers) (20.9)\n",
            "Requirement already satisfied: requests in /usr/local/lib/python3.7/dist-packages (from transformers) (2.23.0)\n",
            "Requirement already satisfied: regex!=2019.12.17 in /usr/local/lib/python3.7/dist-packages (from transformers) (2019.12.20)\n",
            "Requirement already satisfied: tqdm>=4.27 in /usr/local/lib/python3.7/dist-packages (from transformers) (4.41.1)\n",
            "Requirement already satisfied: numpy>=1.17 in /usr/local/lib/python3.7/dist-packages (from transformers) (1.19.5)\n",
            "Requirement already satisfied: tokenizers<0.11,>=0.10.1 in /usr/local/lib/python3.7/dist-packages (from transformers) (0.10.2)\n",
            "Requirement already satisfied: sacremoses in /usr/local/lib/python3.7/dist-packages (from transformers) (0.0.45)\n",
            "Requirement already satisfied: typing-extensions>=3.6.4; python_version < \"3.8\" in /usr/local/lib/python3.7/dist-packages (from importlib-metadata; python_version < \"3.8\"->transformers) (3.7.4.3)\n",
            "Requirement already satisfied: zipp>=0.5 in /usr/local/lib/python3.7/dist-packages (from importlib-metadata; python_version < \"3.8\"->transformers) (3.4.1)\n",
            "Requirement already satisfied: pyparsing>=2.0.2 in /usr/local/lib/python3.7/dist-packages (from packaging->transformers) (2.4.7)\n",
            "Requirement already satisfied: chardet<4,>=3.0.2 in /usr/local/lib/python3.7/dist-packages (from requests->transformers) (3.0.4)\n",
            "Requirement already satisfied: urllib3!=1.25.0,!=1.25.1,<1.26,>=1.21.1 in /usr/local/lib/python3.7/dist-packages (from requests->transformers) (1.24.3)\n",
            "Requirement already satisfied: certifi>=2017.4.17 in /usr/local/lib/python3.7/dist-packages (from requests->transformers) (2020.12.5)\n",
            "Requirement already satisfied: idna<3,>=2.5 in /usr/local/lib/python3.7/dist-packages (from requests->transformers) (2.10)\n",
            "Requirement already satisfied: joblib in /usr/local/lib/python3.7/dist-packages (from sacremoses->transformers) (1.0.1)\n",
            "Requirement already satisfied: six in /usr/local/lib/python3.7/dist-packages (from sacremoses->transformers) (1.15.0)\n",
            "Requirement already satisfied: click in /usr/local/lib/python3.7/dist-packages (from sacremoses->transformers) (7.1.2)\n"
          ],
          "name": "stdout"
        }
      ]
    },
    {
      "cell_type": "code",
      "metadata": {
        "colab": {
          "base_uri": "https://localhost:8080/"
        },
        "id": "ZmMB5lDrV6JD",
        "outputId": "b252a267-ee5f-4ded-a014-9c8a06955a2f"
      },
      "source": [
        "!pip install pickle5"
      ],
      "execution_count": 4,
      "outputs": [
        {
          "output_type": "stream",
          "text": [
            "Requirement already satisfied: pickle5 in /usr/local/lib/python3.7/dist-packages (0.0.11)\n"
          ],
          "name": "stdout"
        }
      ]
    },
    {
      "cell_type": "markdown",
      "metadata": {
        "id": "6pmvuEHznpkr"
      },
      "source": [
        "# Load & Visualize Dataset"
      ]
    },
    {
      "cell_type": "code",
      "metadata": {
        "id": "UO-mDP8FVPuk"
      },
      "source": [
        "import pickle5 as pkl\n",
        "import pandas as pd"
      ],
      "execution_count": 5,
      "outputs": []
    },
    {
      "cell_type": "code",
      "metadata": {
        "colab": {
          "base_uri": "https://localhost:8080/",
          "height": 0
        },
        "id": "CG_5miz9V4iS",
        "outputId": "088cd64e-c719-4e68-a6e7-2578899de3f2"
      },
      "source": [
        "df = pkl.load(open('dataset.csv', \"rb\"))\n",
        "df.head()"
      ],
      "execution_count": 6,
      "outputs": [
        {
          "output_type": "execute_result",
          "data": {
            "text/html": [
              "<div>\n",
              "<style scoped>\n",
              "    .dataframe tbody tr th:only-of-type {\n",
              "        vertical-align: middle;\n",
              "    }\n",
              "\n",
              "    .dataframe tbody tr th {\n",
              "        vertical-align: top;\n",
              "    }\n",
              "\n",
              "    .dataframe thead th {\n",
              "        text-align: right;\n",
              "    }\n",
              "</style>\n",
              "<table border=\"1\" class=\"dataframe\">\n",
              "  <thead>\n",
              "    <tr style=\"text-align: right;\">\n",
              "      <th></th>\n",
              "      <th>journal_id</th>\n",
              "      <th>sentence_id</th>\n",
              "      <th>learning_language</th>\n",
              "      <th>native_language</th>\n",
              "      <th>sentence_text</th>\n",
              "    </tr>\n",
              "  </thead>\n",
              "  <tbody>\n",
              "    <tr>\n",
              "      <th>0</th>\n",
              "      <td>728457</td>\n",
              "      <td>216037</td>\n",
              "      <td>English</td>\n",
              "      <td>Japanese</td>\n",
              "      <td>About winter</td>\n",
              "    </tr>\n",
              "    <tr>\n",
              "      <th>1</th>\n",
              "      <td>728457</td>\n",
              "      <td>216037</td>\n",
              "      <td>English</td>\n",
              "      <td>Japanese</td>\n",
              "      <td>This is my second post.</td>\n",
              "    </tr>\n",
              "    <tr>\n",
              "      <th>2</th>\n",
              "      <td>728457</td>\n",
              "      <td>216037</td>\n",
              "      <td>English</td>\n",
              "      <td>Japanese</td>\n",
              "      <td>I will appreciate it if you correct my sentences.</td>\n",
              "    </tr>\n",
              "    <tr>\n",
              "      <th>3</th>\n",
              "      <td>728457</td>\n",
              "      <td>216037</td>\n",
              "      <td>English</td>\n",
              "      <td>Japanese</td>\n",
              "      <td>It's been getting colder these days here in Ja...</td>\n",
              "    </tr>\n",
              "    <tr>\n",
              "      <th>4</th>\n",
              "      <td>728457</td>\n",
              "      <td>216037</td>\n",
              "      <td>English</td>\n",
              "      <td>Japanese</td>\n",
              "      <td>The summer weather in Japan is not agreeable t...</td>\n",
              "    </tr>\n",
              "  </tbody>\n",
              "</table>\n",
              "</div>"
            ],
            "text/plain": [
              "  journal_id  ...                                      sentence_text\n",
              "0     728457  ...                                       About winter\n",
              "1     728457  ...                            This is my second post.\n",
              "2     728457  ...  I will appreciate it if you correct my sentences.\n",
              "3     728457  ...  It's been getting colder these days here in Ja...\n",
              "4     728457  ...  The summer weather in Japan is not agreeable t...\n",
              "\n",
              "[5 rows x 5 columns]"
            ]
          },
          "metadata": {
            "tags": []
          },
          "execution_count": 6
        }
      ]
    },
    {
      "cell_type": "code",
      "metadata": {
        "colab": {
          "base_uri": "https://localhost:8080/",
          "height": 0
        },
        "id": "JX6D_MKhWHnG",
        "outputId": "894be0ef-e61d-40c3-e1e4-7787379ac406"
      },
      "source": [
        "df = df.iloc[:, -2:]\n",
        "df.head()"
      ],
      "execution_count": 7,
      "outputs": [
        {
          "output_type": "execute_result",
          "data": {
            "text/html": [
              "<div>\n",
              "<style scoped>\n",
              "    .dataframe tbody tr th:only-of-type {\n",
              "        vertical-align: middle;\n",
              "    }\n",
              "\n",
              "    .dataframe tbody tr th {\n",
              "        vertical-align: top;\n",
              "    }\n",
              "\n",
              "    .dataframe thead th {\n",
              "        text-align: right;\n",
              "    }\n",
              "</style>\n",
              "<table border=\"1\" class=\"dataframe\">\n",
              "  <thead>\n",
              "    <tr style=\"text-align: right;\">\n",
              "      <th></th>\n",
              "      <th>native_language</th>\n",
              "      <th>sentence_text</th>\n",
              "    </tr>\n",
              "  </thead>\n",
              "  <tbody>\n",
              "    <tr>\n",
              "      <th>0</th>\n",
              "      <td>Japanese</td>\n",
              "      <td>About winter</td>\n",
              "    </tr>\n",
              "    <tr>\n",
              "      <th>1</th>\n",
              "      <td>Japanese</td>\n",
              "      <td>This is my second post.</td>\n",
              "    </tr>\n",
              "    <tr>\n",
              "      <th>2</th>\n",
              "      <td>Japanese</td>\n",
              "      <td>I will appreciate it if you correct my sentences.</td>\n",
              "    </tr>\n",
              "    <tr>\n",
              "      <th>3</th>\n",
              "      <td>Japanese</td>\n",
              "      <td>It's been getting colder these days here in Ja...</td>\n",
              "    </tr>\n",
              "    <tr>\n",
              "      <th>4</th>\n",
              "      <td>Japanese</td>\n",
              "      <td>The summer weather in Japan is not agreeable t...</td>\n",
              "    </tr>\n",
              "  </tbody>\n",
              "</table>\n",
              "</div>"
            ],
            "text/plain": [
              "  native_language                                      sentence_text\n",
              "0        Japanese                                       About winter\n",
              "1        Japanese                            This is my second post.\n",
              "2        Japanese  I will appreciate it if you correct my sentences.\n",
              "3        Japanese  It's been getting colder these days here in Ja...\n",
              "4        Japanese  The summer weather in Japan is not agreeable t..."
            ]
          },
          "metadata": {
            "tags": []
          },
          "execution_count": 7
        }
      ]
    },
    {
      "cell_type": "code",
      "metadata": {
        "colab": {
          "base_uri": "https://localhost:8080/"
        },
        "id": "8_2ojNAYWouk",
        "outputId": "fbbafc15-ffe9-457e-b74e-f032b7fa4b3e"
      },
      "source": [
        "df['native_language'].unique()"
      ],
      "execution_count": 8,
      "outputs": [
        {
          "output_type": "execute_result",
          "data": {
            "text/plain": [
              "array(['Japanese', 'Korean', 'Vietnamese', 'Mandarin', 'German',\n",
              "       'Traditional Chinese', 'Russian', 'Thai', 'Spanish', 'Hebrew',\n",
              "       'Portuguese(Brazil)', 'Cantonese', 'French', 'Italian',\n",
              "       'Mongolian', 'Polish', 'English', 'Afrikaans', 'Greek', 'Turkish',\n",
              "       'Farsi', 'Indonesian', 'Ukrainian', 'Catalan', 'Urdu', 'Latvian',\n",
              "       'Arabic', 'Other language', 'Hindi', 'Croatian', 'Malaysian',\n",
              "       'Romanian', 'Hungarian', 'Finnish', 'Portuguese(Portugal)',\n",
              "       'Czech', 'Swedish', 'Dutch', 'Lithuanian', 'Tagalog', 'Danish',\n",
              "       'Norwegian', 'Javanese', 'Tamil', 'Bosnian', 'Telugu', 'Sinhalese',\n",
              "       'Bulgarian', 'Azerbaijanian', 'Uzbek', 'Serbian', 'Slovak',\n",
              "       'Laotian', 'Icelandic', 'Armenian', 'Khmer', 'Georgian',\n",
              "       'Esperanto', 'Slovenian', 'Estonian', 'Bengali', 'Panjabi',\n",
              "       'Swahili', 'Albanian', 'Latin', 'Welsh'], dtype=object)"
            ]
          },
          "metadata": {
            "tags": []
          },
          "execution_count": 8
        }
      ]
    },
    {
      "cell_type": "code",
      "metadata": {
        "colab": {
          "base_uri": "https://localhost:8080/"
        },
        "id": "pWpJjyASWQHv",
        "outputId": "606832ff-d5d4-43d0-8245-53662c7d758d"
      },
      "source": [
        "df['native_language'].value_counts()"
      ],
      "execution_count": 9,
      "outputs": [
        {
          "output_type": "execute_result",
          "data": {
            "text/plain": [
              "Japanese               2154513\n",
              "Mandarin                302914\n",
              "Korean                  293221\n",
              "Traditional Chinese     164596\n",
              "Russian                  71509\n",
              "                        ...   \n",
              "Georgian                    16\n",
              "Swahili                     11\n",
              "Icelandic                    6\n",
              "Laotian                      3\n",
              "Albanian                     2\n",
              "Name: native_language, Length: 66, dtype: int64"
            ]
          },
          "metadata": {
            "tags": []
          },
          "execution_count": 9
        }
      ]
    },
    {
      "cell_type": "code",
      "metadata": {
        "colab": {
          "base_uri": "https://localhost:8080/"
        },
        "id": "suZda4CtWXqx",
        "outputId": "7dd486c5-c111-4082-d516-3f79b2ab16b7"
      },
      "source": [
        "df.size"
      ],
      "execution_count": 10,
      "outputs": [
        {
          "output_type": "execute_result",
          "data": {
            "text/plain": [
              "6404718"
            ]
          },
          "metadata": {
            "tags": []
          },
          "execution_count": 10
        }
      ]
    },
    {
      "cell_type": "code",
      "metadata": {
        "colab": {
          "base_uri": "https://localhost:8080/"
        },
        "id": "TpuGZbmIWt8i",
        "outputId": "10407117-2eaf-473f-ba4a-391a23c3271a"
      },
      "source": [
        "df = df[df['native_language'].isin(['German', 'Spanish', 'French'])]\n",
        "# df = df[df['native_language'].isin(['German', 'Spanish', 'French', 'Japanese'])]\n",
        "# df = df.drop(df.query('native_language == \"Japanese\"').sample(frac=.0.993).index)me\n",
        "df['native_language'].unique()"
      ],
      "execution_count": 11,
      "outputs": [
        {
          "output_type": "execute_result",
          "data": {
            "text/plain": [
              "array(['German', 'Spanish', 'French'], dtype=object)"
            ]
          },
          "metadata": {
            "tags": []
          },
          "execution_count": 11
        }
      ]
    },
    {
      "cell_type": "code",
      "metadata": {
        "colab": {
          "base_uri": "https://localhost:8080/"
        },
        "id": "icNHz1l6W2rK",
        "outputId": "33f3ab0e-e19d-4ac9-acad-1ad77d9e617d"
      },
      "source": [
        "df['native_language'].value_counts()"
      ],
      "execution_count": 12,
      "outputs": [
        {
          "output_type": "execute_result",
          "data": {
            "text/plain": [
              "Spanish    26642\n",
              "French     12500\n",
              "German      9316\n",
              "Name: native_language, dtype: int64"
            ]
          },
          "metadata": {
            "tags": []
          },
          "execution_count": 12
        }
      ]
    },
    {
      "cell_type": "code",
      "metadata": {
        "colab": {
          "base_uri": "https://localhost:8080/"
        },
        "id": "AvxFJ5jqW4Un",
        "outputId": "1b7ebf08-196a-4098-a32d-9034d2406853"
      },
      "source": [
        "df.size"
      ],
      "execution_count": 13,
      "outputs": [
        {
          "output_type": "execute_result",
          "data": {
            "text/plain": [
              "96916"
            ]
          },
          "metadata": {
            "tags": []
          },
          "execution_count": 13
        }
      ]
    },
    {
      "cell_type": "code",
      "metadata": {
        "colab": {
          "base_uri": "https://localhost:8080/"
        },
        "id": "N2McuoUjW6Q0",
        "outputId": "50a74cf5-1bf2-468d-e847-dc5f41c9fa79"
      },
      "source": [
        "labels = df.native_language.unique()\n",
        "labels_dict = {}\n",
        "for idx, label in enumerate(labels):\n",
        "  labels_dict[label] = idx\n",
        "labels_dict"
      ],
      "execution_count": 14,
      "outputs": [
        {
          "output_type": "execute_result",
          "data": {
            "text/plain": [
              "{'French': 2, 'German': 0, 'Spanish': 1}"
            ]
          },
          "metadata": {
            "tags": []
          },
          "execution_count": 14
        }
      ]
    },
    {
      "cell_type": "code",
      "metadata": {
        "colab": {
          "base_uri": "https://localhost:8080/",
          "height": 0
        },
        "id": "8djc0a3BXSGP",
        "outputId": "ec6fe855-fbdd-4402-ff96-f1e6f254718f"
      },
      "source": [
        "df['label'] = df.native_language.replace(labels_dict)\n",
        "df.head()"
      ],
      "execution_count": 15,
      "outputs": [
        {
          "output_type": "execute_result",
          "data": {
            "text/html": [
              "<div>\n",
              "<style scoped>\n",
              "    .dataframe tbody tr th:only-of-type {\n",
              "        vertical-align: middle;\n",
              "    }\n",
              "\n",
              "    .dataframe tbody tr th {\n",
              "        vertical-align: top;\n",
              "    }\n",
              "\n",
              "    .dataframe thead th {\n",
              "        text-align: right;\n",
              "    }\n",
              "</style>\n",
              "<table border=\"1\" class=\"dataframe\">\n",
              "  <thead>\n",
              "    <tr style=\"text-align: right;\">\n",
              "      <th></th>\n",
              "      <th>native_language</th>\n",
              "      <th>sentence_text</th>\n",
              "      <th>label</th>\n",
              "    </tr>\n",
              "  </thead>\n",
              "  <tbody>\n",
              "    <tr>\n",
              "      <th>896</th>\n",
              "      <td>German</td>\n",
              "      <td>Really bad english teacher</td>\n",
              "      <td>0</td>\n",
              "    </tr>\n",
              "    <tr>\n",
              "      <th>897</th>\n",
              "      <td>German</td>\n",
              "      <td>Hello,</td>\n",
              "      <td>0</td>\n",
              "    </tr>\n",
              "    <tr>\n",
              "      <th>898</th>\n",
              "      <td>German</td>\n",
              "      <td>I am 19 years old.</td>\n",
              "      <td>0</td>\n",
              "    </tr>\n",
              "    <tr>\n",
              "      <th>899</th>\n",
              "      <td>German</td>\n",
              "      <td>I began to learn english when I was about 16 y...</td>\n",
              "      <td>0</td>\n",
              "    </tr>\n",
              "    <tr>\n",
              "      <th>900</th>\n",
              "      <td>German</td>\n",
              "      <td>I had for about four years english now.</td>\n",
              "      <td>0</td>\n",
              "    </tr>\n",
              "  </tbody>\n",
              "</table>\n",
              "</div>"
            ],
            "text/plain": [
              "    native_language                                      sentence_text  label\n",
              "896          German                         Really bad english teacher      0\n",
              "897          German                                             Hello,      0\n",
              "898          German                                 I am 19 years old.      0\n",
              "899          German  I began to learn english when I was about 16 y...      0\n",
              "900          German            I had for about four years english now.      0"
            ]
          },
          "metadata": {
            "tags": []
          },
          "execution_count": 15
        }
      ]
    },
    {
      "cell_type": "code",
      "metadata": {
        "colab": {
          "base_uri": "https://localhost:8080/",
          "height": 0
        },
        "id": "6neCcj-WXpA7",
        "outputId": "c26c9256-94aa-41e8-b531-714baf406858"
      },
      "source": [
        "from sklearn.model_selection import train_test_split\n",
        "\n",
        "X_train, X_val, y_train, y_val = train_test_split(\n",
        "    df.index.values,\n",
        "    df.label.values,\n",
        "    test_size=0.2,\n",
        "    random_state=42,\n",
        "    stratify=df.label.values   \n",
        ")\n",
        "\n",
        "df['data_type'] = ['not_set']*df.shape[0]\n",
        "\n",
        "df.loc[X_train, 'data_type'] = 'train'\n",
        "df.loc[X_val, 'data_type'] = 'val'\n",
        "df.groupby(['native_language', 'label', 'data_type']).count()"
      ],
      "execution_count": 16,
      "outputs": [
        {
          "output_type": "execute_result",
          "data": {
            "text/html": [
              "<div>\n",
              "<style scoped>\n",
              "    .dataframe tbody tr th:only-of-type {\n",
              "        vertical-align: middle;\n",
              "    }\n",
              "\n",
              "    .dataframe tbody tr th {\n",
              "        vertical-align: top;\n",
              "    }\n",
              "\n",
              "    .dataframe thead th {\n",
              "        text-align: right;\n",
              "    }\n",
              "</style>\n",
              "<table border=\"1\" class=\"dataframe\">\n",
              "  <thead>\n",
              "    <tr style=\"text-align: right;\">\n",
              "      <th></th>\n",
              "      <th></th>\n",
              "      <th></th>\n",
              "      <th>sentence_text</th>\n",
              "    </tr>\n",
              "    <tr>\n",
              "      <th>native_language</th>\n",
              "      <th>label</th>\n",
              "      <th>data_type</th>\n",
              "      <th></th>\n",
              "    </tr>\n",
              "  </thead>\n",
              "  <tbody>\n",
              "    <tr>\n",
              "      <th rowspan=\"2\" valign=\"top\">French</th>\n",
              "      <th rowspan=\"2\" valign=\"top\">2</th>\n",
              "      <th>train</th>\n",
              "      <td>10000</td>\n",
              "    </tr>\n",
              "    <tr>\n",
              "      <th>val</th>\n",
              "      <td>2500</td>\n",
              "    </tr>\n",
              "    <tr>\n",
              "      <th rowspan=\"2\" valign=\"top\">German</th>\n",
              "      <th rowspan=\"2\" valign=\"top\">0</th>\n",
              "      <th>train</th>\n",
              "      <td>7453</td>\n",
              "    </tr>\n",
              "    <tr>\n",
              "      <th>val</th>\n",
              "      <td>1863</td>\n",
              "    </tr>\n",
              "    <tr>\n",
              "      <th rowspan=\"2\" valign=\"top\">Spanish</th>\n",
              "      <th rowspan=\"2\" valign=\"top\">1</th>\n",
              "      <th>train</th>\n",
              "      <td>21313</td>\n",
              "    </tr>\n",
              "    <tr>\n",
              "      <th>val</th>\n",
              "      <td>5329</td>\n",
              "    </tr>\n",
              "  </tbody>\n",
              "</table>\n",
              "</div>"
            ],
            "text/plain": [
              "                                 sentence_text\n",
              "native_language label data_type               \n",
              "French          2     train              10000\n",
              "                      val                 2500\n",
              "German          0     train               7453\n",
              "                      val                 1863\n",
              "Spanish         1     train              21313\n",
              "                      val                 5329"
            ]
          },
          "metadata": {
            "tags": []
          },
          "execution_count": 16
        }
      ]
    },
    {
      "cell_type": "code",
      "metadata": {
        "colab": {
          "base_uri": "https://localhost:8080/",
          "height": 0
        },
        "id": "u4pDrJan6uHp",
        "outputId": "fbf242dc-69b4-4cc3-e50f-80e857730e5f"
      },
      "source": [
        "validation_sentences = df[df.data_type=='val'].sentence_text.values\n",
        "df[df.data_type=='val']"
      ],
      "execution_count": 17,
      "outputs": [
        {
          "output_type": "execute_result",
          "data": {
            "text/html": [
              "<div>\n",
              "<style scoped>\n",
              "    .dataframe tbody tr th:only-of-type {\n",
              "        vertical-align: middle;\n",
              "    }\n",
              "\n",
              "    .dataframe tbody tr th {\n",
              "        vertical-align: top;\n",
              "    }\n",
              "\n",
              "    .dataframe thead th {\n",
              "        text-align: right;\n",
              "    }\n",
              "</style>\n",
              "<table border=\"1\" class=\"dataframe\">\n",
              "  <thead>\n",
              "    <tr style=\"text-align: right;\">\n",
              "      <th></th>\n",
              "      <th>native_language</th>\n",
              "      <th>sentence_text</th>\n",
              "      <th>label</th>\n",
              "      <th>data_type</th>\n",
              "    </tr>\n",
              "  </thead>\n",
              "  <tbody>\n",
              "    <tr>\n",
              "      <th>897</th>\n",
              "      <td>German</td>\n",
              "      <td>Hello,</td>\n",
              "      <td>0</td>\n",
              "      <td>val</td>\n",
              "    </tr>\n",
              "    <tr>\n",
              "      <th>898</th>\n",
              "      <td>German</td>\n",
              "      <td>I am 19 years old.</td>\n",
              "      <td>0</td>\n",
              "      <td>val</td>\n",
              "    </tr>\n",
              "    <tr>\n",
              "      <th>900</th>\n",
              "      <td>German</td>\n",
              "      <td>I had for about four years english now.</td>\n",
              "      <td>0</td>\n",
              "      <td>val</td>\n",
              "    </tr>\n",
              "    <tr>\n",
              "      <th>901</th>\n",
              "      <td>German</td>\n",
              "      <td>For four weeks I was in the UK to learn english.</td>\n",
              "      <td>0</td>\n",
              "      <td>val</td>\n",
              "    </tr>\n",
              "    <tr>\n",
              "      <th>905</th>\n",
              "      <td>German</td>\n",
              "      <td>In my opinion my engilsh skills went some step...</td>\n",
              "      <td>0</td>\n",
              "      <td>val</td>\n",
              "    </tr>\n",
              "    <tr>\n",
              "      <th>...</th>\n",
              "      <td>...</td>\n",
              "      <td>...</td>\n",
              "      <td>...</td>\n",
              "      <td>...</td>\n",
              "    </tr>\n",
              "    <tr>\n",
              "      <th>3199144</th>\n",
              "      <td>French</td>\n",
              "      <td>To the eyes of jealous women , it would be a 1...</td>\n",
              "      <td>2</td>\n",
              "      <td>val</td>\n",
              "    </tr>\n",
              "    <tr>\n",
              "      <th>3199145</th>\n",
              "      <td>French</td>\n",
              "      <td>At only 15 years old, she received what she ha...</td>\n",
              "      <td>2</td>\n",
              "      <td>val</td>\n",
              "    </tr>\n",
              "    <tr>\n",
              "      <th>3199146</th>\n",
              "      <td>French</td>\n",
              "      <td>Even what seemed impossible become possible an...</td>\n",
              "      <td>2</td>\n",
              "      <td>val</td>\n",
              "    </tr>\n",
              "    <tr>\n",
              "      <th>3199147</th>\n",
              "      <td>French</td>\n",
              "      <td>He took care , was attentive, gentleman so wha...</td>\n",
              "      <td>2</td>\n",
              "      <td>val</td>\n",
              "    </tr>\n",
              "    <tr>\n",
              "      <th>3199151</th>\n",
              "      <td>French</td>\n",
              "      <td>They had thousand ideas about their future life.</td>\n",
              "      <td>2</td>\n",
              "      <td>val</td>\n",
              "    </tr>\n",
              "  </tbody>\n",
              "</table>\n",
              "<p>9692 rows × 4 columns</p>\n",
              "</div>"
            ],
            "text/plain": [
              "        native_language  ... data_type\n",
              "897              German  ...       val\n",
              "898              German  ...       val\n",
              "900              German  ...       val\n",
              "901              German  ...       val\n",
              "905              German  ...       val\n",
              "...                 ...  ...       ...\n",
              "3199144          French  ...       val\n",
              "3199145          French  ...       val\n",
              "3199146          French  ...       val\n",
              "3199147          French  ...       val\n",
              "3199151          French  ...       val\n",
              "\n",
              "[9692 rows x 4 columns]"
            ]
          },
          "metadata": {
            "tags": []
          },
          "execution_count": 17
        }
      ]
    },
    {
      "cell_type": "markdown",
      "metadata": {
        "id": "3EwckWh3n1pG"
      },
      "source": [
        "# Models"
      ]
    },
    {
      "cell_type": "code",
      "metadata": {
        "id": "iV2MfxkyZ8ZF"
      },
      "source": [
        "import torch\n",
        "from torch.utils.data import TensorDataset\n",
        "from transformers import BertTokenizer, BertForSequenceClassification\n",
        "from tqdm.notebook import tqdm\n",
        "\n",
        "device = torch.device(\"cuda\" if torch.cuda.is_available() else \"cpu\")"
      ],
      "execution_count": 18,
      "outputs": []
    },
    {
      "cell_type": "code",
      "metadata": {
        "id": "QOQmD8eWa0vZ"
      },
      "source": [
        "tokenizer = BertTokenizer.from_pretrained('bert-base-uncased', do_lower_case=True)\n",
        "\n",
        "encoded_data_train = tokenizer.batch_encode_plus(\n",
        "    df[df.data_type=='train'].sentence_text.values,\n",
        "    add_special_tokens=True,\n",
        "    return_attention_mask=True,\n",
        "    padding='longest',\n",
        "    max_length=512,\n",
        "    truncation=True,\n",
        "    return_tensors='pt'\n",
        ")\n",
        "\n",
        "encoded_data_val = tokenizer.batch_encode_plus(\n",
        "    df[df.data_type=='val'].sentence_text.values,\n",
        "    add_special_tokens=True,\n",
        "    return_attention_mask=True,\n",
        "    padding='longest',\n",
        "    max_length=512,\n",
        "    truncation=True,\n",
        "    return_tensors='pt'    \n",
        ")"
      ],
      "execution_count": 19,
      "outputs": []
    },
    {
      "cell_type": "code",
      "metadata": {
        "id": "6JdlDGKUby-r"
      },
      "source": [
        "input_ids_train = encoded_data_train['input_ids']\n",
        "attention_masks_train = encoded_data_train['attention_mask']\n",
        "labels_train = torch.tensor(df[df.data_type=='train'].label.values)\n",
        "\n",
        "input_ids_val = encoded_data_val['input_ids']\n",
        "attention_masks_val = encoded_data_val['attention_mask']\n",
        "labels_val = torch.tensor(df[df.data_type=='val'].label.values)\n",
        "\n",
        "dataset_train = TensorDataset(input_ids_train, attention_masks_train, labels_train)\n",
        "dataset_val = TensorDataset(input_ids_val, attention_masks_val, labels_val)"
      ],
      "execution_count": 20,
      "outputs": []
    },
    {
      "cell_type": "code",
      "metadata": {
        "id": "nRN_eVspdRcW",
        "colab": {
          "base_uri": "https://localhost:8080/"
        },
        "outputId": "b4a6a46d-20b4-4cda-efff-0ca8090d31cc"
      },
      "source": [
        "  model = BertForSequenceClassification.from_pretrained(\n",
        "    'bert-base-uncased',\n",
        "    num_labels=len(labels_dict),\n",
        "    output_attentions=False,\n",
        "    output_hidden_states=False\n",
        ").to(device)"
      ],
      "execution_count": 21,
      "outputs": [
        {
          "output_type": "stream",
          "text": [
            "Some weights of the model checkpoint at bert-base-uncased were not used when initializing BertForSequenceClassification: ['cls.predictions.bias', 'cls.predictions.transform.dense.weight', 'cls.predictions.transform.dense.bias', 'cls.predictions.decoder.weight', 'cls.seq_relationship.weight', 'cls.seq_relationship.bias', 'cls.predictions.transform.LayerNorm.weight', 'cls.predictions.transform.LayerNorm.bias']\n",
            "- This IS expected if you are initializing BertForSequenceClassification from the checkpoint of a model trained on another task or with another architecture (e.g. initializing a BertForSequenceClassification model from a BertForPreTraining model).\n",
            "- This IS NOT expected if you are initializing BertForSequenceClassification from the checkpoint of a model that you expect to be exactly identical (initializing a BertForSequenceClassification model from a BertForSequenceClassification model).\n",
            "Some weights of BertForSequenceClassification were not initialized from the model checkpoint at bert-base-uncased and are newly initialized: ['classifier.weight', 'classifier.bias']\n",
            "You should probably TRAIN this model on a down-stream task to be able to use it for predictions and inference.\n"
          ],
          "name": "stderr"
        }
      ]
    },
    {
      "cell_type": "code",
      "metadata": {
        "id": "VKQf4qmddpEw"
      },
      "source": [
        "from torch.utils.data import DataLoader, RandomSampler, SequentialSampler\n",
        "\n",
        "batch_size = 64\n",
        "dataloader_train = DataLoader(\n",
        "    dataset_train,\n",
        "    sampler=RandomSampler(dataset_train),\n",
        "    batch_size=batch_size,\n",
        "    drop_last=True\n",
        ")\n",
        "\n",
        "dataloader_val = DataLoader(\n",
        "    dataset_val,\n",
        "    sampler=SequentialSampler(dataset_val),\n",
        "    batch_size=batch_size\n",
        ")"
      ],
      "execution_count": 22,
      "outputs": []
    },
    {
      "cell_type": "markdown",
      "metadata": {
        "id": "FVF4eqT39EFY"
      },
      "source": [
        "# Functions"
      ]
    },
    {
      "cell_type": "code",
      "metadata": {
        "id": "F9Kb88DKoi50"
      },
      "source": [
        "import random\n",
        "import numpy as np\n",
        "\n",
        "seed_val = 17\n",
        "random.seed(seed_val)\n",
        "np.random.seed(seed_val)  \n",
        "torch.cuda.manual_seed_all(seed_val)"
      ],
      "execution_count": 23,
      "outputs": []
    },
    {
      "cell_type": "code",
      "metadata": {
        "id": "J9VPTchBmccB"
      },
      "source": [
        "def accuracy_per_class(preds, labels, print=False):\n",
        "  label_dict_inverse = {v:k for k,v in labels_dict.items()}\n",
        "  preds_flat = np.argmax(preds, axis=1).flatten()\n",
        "  labels_flat = labels.flatten()\n",
        "  acc = {}\n",
        "  total = 0\n",
        "  for label in np.unique(labels_flat):\n",
        "    y_preds = preds_flat[labels_flat==label]\n",
        "    y_true = labels_flat[labels_flat==label]\n",
        "    acc[label_dict_inverse[label]] = len(y_preds[y_preds==label])/len(y_true)\n",
        "    total += acc[label_dict_inverse[label]]\n",
        "    if print:\n",
        "      tqdm.write(f'Class: {label_dict_inverse[label]}  |  Accuracy: {len(y_preds[y_preds==label])/len(y_true): .3f}\\n')\n",
        "#   tqdm.write(f'Total Accuracy: ')\n",
        "  return acc, total/len(np.unique(labels_flat))"
      ],
      "execution_count": 24,
      "outputs": []
    },
    {
      "cell_type": "code",
      "metadata": {
        "id": "iaNOaH08OvZw"
      },
      "source": [
        "def loss_logits_labels(inputs, outputs):\n",
        "  loss = outputs[0]\n",
        "  logits = outputs[1]\n",
        "  logits = logits.detach().cpu().numpy()\n",
        "  label_ids = inputs['labels'].cpu().numpy()\n",
        "  return loss, logits, label_ids"
      ],
      "execution_count": 25,
      "outputs": []
    },
    {
      "cell_type": "code",
      "metadata": {
        "id": "mQdA8wYh0kql"
      },
      "source": [
        "def evaluate(dataloader_val):\n",
        "  model.eval()\n",
        "  loss_val_total = 0\n",
        "  predictions, true_vals = [], []\n",
        "  \n",
        "  for batch in dataloader_val:\n",
        "    batch = tuple(b.to(device) for b in batch)\n",
        "    inputs = {\n",
        "        'input_ids': batch[0],\n",
        "        'attention_mask': batch[1],\n",
        "        'labels': batch[2]\n",
        "    }\n",
        "\n",
        "    with torch.no_grad():\n",
        "      outputs = model(**inputs)\n",
        "    \n",
        "    loss, logits, label_ids = loss_logits_labels(inputs, outputs)\n",
        "    loss_val_total += loss.item()\n",
        "    predictions.append(logits)\n",
        "    true_vals.append(label_ids)\n",
        "\n",
        "  loss_val_avg = loss_val_total/len(dataloader_val)\n",
        "  predictions = np.concatenate(predictions, axis=0)\n",
        "  true_vals = np.concatenate(true_vals, axis=0)\n",
        "\n",
        "  return loss_val_avg, predictions, true_vals"
      ],
      "execution_count": 26,
      "outputs": []
    },
    {
      "cell_type": "markdown",
      "metadata": {
        "id": "Ez4W2TWxobIg"
      },
      "source": [
        "# Train"
      ]
    },
    {
      "cell_type": "code",
      "metadata": {
        "id": "FRZywHLEeeLr"
      },
      "source": [
        "from transformers import AdamW, get_linear_schedule_with_warmup\n",
        "\n",
        "optimizer = AdamW(\n",
        "    model.parameters(),\n",
        "    lr=1e-5,\n",
        "    eps=1e-8\n",
        ")\n",
        "\n",
        "epochs = 15\n",
        "\n",
        "scheduler = get_linear_schedule_with_warmup(\n",
        "    optimizer,\n",
        "    num_warmup_steps=0,\n",
        "    num_training_steps=len(dataloader_train)*epochs\n",
        ")"
      ],
      "execution_count": null,
      "outputs": []
    },
    {
      "cell_type": "code",
      "metadata": {
        "colab": {
          "base_uri": "https://localhost:8080/",
          "height": 240,
          "referenced_widgets": [
            "309af911948f4adb9e5a238207a93feb",
            "7e9c2439d417455ba3f9875f5df371ba",
            "d65a666757c443b7abce47accaff5567",
            "a7a2176e0a0a4d7f9f685232a0439ba4",
            "ceff42f5d68746769e5eb79d3e03b06a",
            "8847b4678ba643c2be45e1eb49e4a506",
            "f0aca07278c24925badb4bb51a5a0855",
            "f722aa124e1b40069d05ed88f706124b",
            "cefc8f47fa0a44bca27dcc6ff468600e",
            "e3ee114723794d0f9b00c7d449ebed76",
            "d86da9e63066487baf345cc7de505bde",
            "1bcb774b907b4de0a940f657f7a5fcb2",
            "6fe1d7ab23d2472fac1d76a49b6fa10a",
            "f42cec1ee2e04522b523ce3b0d76e12c",
            "f96cd8d5360f4e0bb189d8cbc3ff9363",
            "76e394b1a4444f40931ccd01bb63d96b",
            "83614bd959934f46a00c5fd0d07269f2",
            "976a8dc13cab4cc0bb16c4c6b027fab2",
            "980545b5a5c94e3a87e7a45076689444",
            "fbe6e55cb4994efb8b28d280457a21eb",
            "34d9ca3f044447ce8965e6710566f0c4",
            "788709f2bf24415eab2605481dec9554",
            "8cd199acd28e45bba6d59437d84d9532",
            "35be694e94524a1d82e76f6a54875b07",
            "fe23a962f93048179f33163b52867fa5",
            "0850a92f070f4e318960c9294e5a2a76",
            "66047d6b27a44d43ab93a82e17143ba8",
            "3e884e23fd8646f98153029b9f41e079",
            "096bef67f5714fabade26e8a32d64759",
            "0e35ed52aabe40ab808e07d8c3ad7484",
            "d39ea54ffdc449ebbf09571cb4a9bb6b",
            "b8f61291fc4a4fac8dcdc58b1ed2ebae",
            "191dac85075c42d9b801208beede489d",
            "4762533a9b1d4e23bb750c1f85cc913b",
            "8cab5ebad47e4f26ba2055e7468aae6b",
            "be1f735cdbf147dbac55c5c99474751c",
            "634c38d09d2e4ab499a330906a387f88",
            "3c9c390414a648349735624bba265987",
            "1e19b56e59ae4e3da5be66a94b209098",
            "19e667c8722042eb9cddf9bd4c6b5705",
            "85da56fa830443b8b37246ba27c37e94",
            "2e8c6f1463eb4602a696d9fd4cf6618f",
            "fe053d20e62a40eb991e8c877aa4f94b",
            "6b929678061e4fbe8abeb84b951ea20e",
            "ec3b51afbb134b9786c0e83486392152",
            "0c2bfb0f892c4a35b3e3741ac90ef61a",
            "e57e6c30a33f40b7b9c88ad221c5ac96",
            "32a10a0d54534e2cad09c3c39d18b4ee"
          ]
        },
        "id": "xsEkeTUS1KHv",
        "outputId": "2b782a0f-3bf3-4b03-cbc6-c8b1009ce2f4"
      },
      "source": [
        "TRAINING_LOSS = []\n",
        "ACCURACY = []\n",
        "\n",
        "for epoch in tqdm(range(1, epochs+1)):\n",
        "  model.train()\n",
        "  loss_train_total = 0\n",
        "  progress_bar = tqdm(dataloader_train, desc='Epoch {:1d}'.format(epoch), leave=False, disable=False)\n",
        "  predictions, true_vals = [], []\n",
        "  \n",
        "  for batch in progress_bar:\n",
        "    model.zero_grad()\n",
        "    batch = tuple(b.to(device) for b in batch)\n",
        "    inputs = {\n",
        "            'input_ids': batch[0],\n",
        "            'attention_mask': batch[1],\n",
        "            'labels': batch[2]\n",
        "    }\n",
        "    outputs = model(**inputs)\n",
        "\n",
        "    loss, logits, label_ids = loss_logits_labels(inputs, outputs)\n",
        "    loss_train_total += loss.item()\n",
        "    predictions.append(logits)\n",
        "    true_vals.append(label_ids)\n",
        "\n",
        "\n",
        "    loss.backward()\n",
        "    torch.nn.utils.clip_grad_norm_(model.parameters(), 1.0)\n",
        "\n",
        "    optimizer.step()\n",
        "    scheduler.step()\n",
        "\n",
        "    progress_bar.set_postfix({'training_loss': '{:.3f}'.format(loss.item()/len(batch))})\n",
        "\n",
        "  loss_train_avg = loss_train_total/len(dataloader_train)\n",
        "  predictions = np.concatenate(predictions, axis=0)\n",
        "  true_vals = np.concatenate(true_vals, axis=0)\n",
        "  accuracy, total = accuracy_per_class(predictions, true_vals)\n",
        "\n",
        "  TRAINING_LOSS.append(loss_train_avg)\n",
        "\n",
        "  torch.save(model.state_dict(), f'/content/drive/MyDrive/DLProject/NLI_BERT_epoch_{epoch}.pth')\n",
        "  tqdm.write(f'\\nEpoch-{epoch}  \\|  Loss: {loss_train_avg:.4f}  \\|  Acc: {total:.3f}')\n",
        "\n",
        "  ACCURACY.append(accuracy)    "
      ],
      "execution_count": null,
      "outputs": [
        {
          "output_type": "display_data",
          "data": {
            "application/vnd.jupyter.widget-view+json": {
              "model_id": "309af911948f4adb9e5a238207a93feb",
              "version_minor": 0,
              "version_major": 2
            },
            "text/plain": [
              "HBox(children=(FloatProgress(value=0.0, max=5.0), HTML(value='')))"
            ]
          },
          "metadata": {
            "tags": []
          }
        },
        {
          "output_type": "display_data",
          "data": {
            "application/vnd.jupyter.widget-view+json": {
              "model_id": "cefc8f47fa0a44bca27dcc6ff468600e",
              "version_minor": 0,
              "version_major": 2
            },
            "text/plain": [
              "HBox(children=(FloatProgress(value=0.0, description='Epoch 11', max=605.0, style=ProgressStyle(description_wid…"
            ]
          },
          "metadata": {
            "tags": []
          }
        },
        {
          "output_type": "stream",
          "text": [
            "\r\n",
            "Epoch-11  \\|  Loss: 0.2219  \\|  Acc: 0.896\n"
          ],
          "name": "stdout"
        },
        {
          "output_type": "display_data",
          "data": {
            "application/vnd.jupyter.widget-view+json": {
              "model_id": "83614bd959934f46a00c5fd0d07269f2",
              "version_minor": 0,
              "version_major": 2
            },
            "text/plain": [
              "HBox(children=(FloatProgress(value=0.0, description='Epoch 12', max=605.0, style=ProgressStyle(description_wid…"
            ]
          },
          "metadata": {
            "tags": []
          }
        },
        {
          "output_type": "stream",
          "text": [
            "\r\n",
            "Epoch-12  \\|  Loss: 0.1834  \\|  Acc: 0.914\n"
          ],
          "name": "stdout"
        },
        {
          "output_type": "display_data",
          "data": {
            "application/vnd.jupyter.widget-view+json": {
              "model_id": "fe23a962f93048179f33163b52867fa5",
              "version_minor": 0,
              "version_major": 2
            },
            "text/plain": [
              "HBox(children=(FloatProgress(value=0.0, description='Epoch 13', max=605.0, style=ProgressStyle(description_wid…"
            ]
          },
          "metadata": {
            "tags": []
          }
        },
        {
          "output_type": "stream",
          "text": [
            "\r\n",
            "Epoch-13  \\|  Loss: 0.1535  \\|  Acc: 0.927\n"
          ],
          "name": "stdout"
        },
        {
          "output_type": "display_data",
          "data": {
            "application/vnd.jupyter.widget-view+json": {
              "model_id": "191dac85075c42d9b801208beede489d",
              "version_minor": 0,
              "version_major": 2
            },
            "text/plain": [
              "HBox(children=(FloatProgress(value=0.0, description='Epoch 14', max=605.0, style=ProgressStyle(description_wid…"
            ]
          },
          "metadata": {
            "tags": []
          }
        },
        {
          "output_type": "stream",
          "text": [
            "\r\n",
            "Epoch-14  \\|  Loss: 0.1388  \\|  Acc: 0.936\n"
          ],
          "name": "stdout"
        },
        {
          "output_type": "display_data",
          "data": {
            "application/vnd.jupyter.widget-view+json": {
              "model_id": "85da56fa830443b8b37246ba27c37e94",
              "version_minor": 0,
              "version_major": 2
            },
            "text/plain": [
              "HBox(children=(FloatProgress(value=0.0, description='Epoch 15', max=605.0, style=ProgressStyle(description_wid…"
            ]
          },
          "metadata": {
            "tags": []
          }
        },
        {
          "output_type": "stream",
          "text": [
            "\r\n",
            "Epoch-15  \\|  Loss: 0.1203  \\|  Acc: 0.942\n",
            "\n"
          ],
          "name": "stdout"
        }
      ]
    },
    {
      "cell_type": "code",
      "metadata": {
        "id": "c8tWtYEHZvl3"
      },
      "source": [
        "import matplotlib.pyplot as plt"
      ],
      "execution_count": null,
      "outputs": []
    },
    {
      "cell_type": "code",
      "metadata": {
        "colab": {
          "base_uri": "https://localhost:8080/",
          "height": 282
        },
        "id": "qU4_seVTZzCw",
        "outputId": "9fbfe977-9503-4aeb-fddf-f20213761f7f"
      },
      "source": [
        "plt.plot(TRAINING_LOSS)"
      ],
      "execution_count": null,
      "outputs": [
        {
          "output_type": "execute_result",
          "data": {
            "text/plain": [
              "[<matplotlib.lines.Line2D at 0x7f10b2b84a10>]"
            ]
          },
          "metadata": {
            "tags": []
          },
          "execution_count": 48
        },
        {
          "output_type": "display_data",
          "data": {
            "image/png": "[encoded data removed]",
            "text/plain": [
              "<Figure size 432x288 with 1 Axes>"
            ]
          },
          "metadata": {
            "tags": [],
            "needs_background": "light"
          }
        }
      ]
    },
    {
      "cell_type": "code",
      "metadata": {
        "id": "NTXfq7YLYEox"
      },
      "source": [
        "accuracy_hist = []\n",
        "for d in ACCURACY:\n",
        "    total_acc = 0\n",
        "    for k,v in d.items():\n",
        "        total_acc += v\n",
        "    accuracy_hist.append(total_acc/len(d))\n",
        "accuracy_hist"
      ],
      "execution_count": null,
      "outputs": []
    },
    {
      "cell_type": "code",
      "metadata": {
        "colab": {
          "base_uri": "https://localhost:8080/",
          "height": 282
        },
        "id": "dGxLev0MbdQD",
        "outputId": "0ccdfe9a-2e80-4ce7-f8f5-5d9a9dc09a44"
      },
      "source": [
        "plt.plot(accuracy_hist)"
      ],
      "execution_count": null,
      "outputs": [
        {
          "output_type": "execute_result",
          "data": {
            "text/plain": [
              "[<matplotlib.lines.Line2D at 0x7f0bb33aafd0>]"
            ]
          },
          "metadata": {
            "tags": []
          },
          "execution_count": 58
        },
        {
          "output_type": "display_data",
          "data": {
            "image/png": "[encoded data removed]",
            "text/plain": [
              "<Figure size 432x288 with 1 Axes>"
            ]
          },
          "metadata": {
            "tags": [],
            "needs_background": "light"
          }
        }
      ]
    },
    {
      "cell_type": "markdown",
      "metadata": {
        "id": "YNKRFbb4bhU5"
      },
      "source": [
        "# NLI Validation"
      ]
    },
    {
      "cell_type": "code",
      "metadata": {
        "colab": {
          "base_uri": "https://localhost:8080/"
        },
        "id": "V4V8ryHrokaX",
        "outputId": "730ca14b-60b0-4ba8-f756-73d63b43c4a9"
      },
      "source": [
        "model = BertForSequenceClassification.from_pretrained(\n",
        "    \"bert-base-uncased\",\n",
        "    num_labels=len(labels_dict),\n",
        "    output_attentions=False,\n",
        "    output_hidden_states=False\n",
        ").to(device)"
      ],
      "execution_count": 27,
      "outputs": [
        {
          "output_type": "stream",
          "text": [
            "Some weights of the model checkpoint at bert-base-uncased were not used when initializing BertForSequenceClassification: ['cls.predictions.bias', 'cls.predictions.transform.dense.weight', 'cls.predictions.transform.dense.bias', 'cls.predictions.decoder.weight', 'cls.seq_relationship.weight', 'cls.seq_relationship.bias', 'cls.predictions.transform.LayerNorm.weight', 'cls.predictions.transform.LayerNorm.bias']\n",
            "- This IS expected if you are initializing BertForSequenceClassification from the checkpoint of a model trained on another task or with another architecture (e.g. initializing a BertForSequenceClassification model from a BertForPreTraining model).\n",
            "- This IS NOT expected if you are initializing BertForSequenceClassification from the checkpoint of a model that you expect to be exactly identical (initializing a BertForSequenceClassification model from a BertForSequenceClassification model).\n",
            "Some weights of BertForSequenceClassification were not initialized from the model checkpoint at bert-base-uncased and are newly initialized: ['classifier.weight', 'classifier.bias']\n",
            "You should probably TRAIN this model on a down-stream task to be able to use it for predictions and inference.\n"
          ],
          "name": "stderr"
        }
      ]
    },
    {
      "cell_type": "code",
      "metadata": {
        "colab": {
          "base_uri": "https://localhost:8080/"
        },
        "id": "qYwM0IhbwdyL",
        "outputId": "354729b3-8868-4f90-c1c4-cdcfce44aa2a"
      },
      "source": [
        "model.load_state_dict(torch.load('/content/drive/MyDrive/DLProject/NLI/NLI_BERT_epoch_15.pth', map_location=torch.device('cpu')))"
      ],
      "execution_count": 28,
      "outputs": [
        {
          "output_type": "execute_result",
          "data": {
            "text/plain": [
              "<All keys matched successfully>"
            ]
          },
          "metadata": {
            "tags": []
          },
          "execution_count": 28
        }
      ]
    },
    {
      "cell_type": "code",
      "metadata": {
        "id": "Egi92kRWwv3s"
      },
      "source": [
        "_, predictions, true_vals = evaluate(dataloader_val)"
      ],
      "execution_count": 29,
      "outputs": []
    },
    {
      "cell_type": "code",
      "metadata": {
        "colab": {
          "base_uri": "https://localhost:8080/"
        },
        "id": "ZFkgw0ozw0jn",
        "outputId": "68efb5a3-4c47-4e5b-dedc-4223bea32a18"
      },
      "source": [
        "#15 epochs\n",
        "_, total = accuracy_per_class(predictions, true_vals, print=True)\n",
        "print(f'Total Accuracy: {total:.3f}')"
      ],
      "execution_count": 30,
      "outputs": [
        {
          "output_type": "stream",
          "text": [
            "Class: German  |  Accuracy:  0.546\n",
            "\n",
            "Class: Spanish  |  Accuracy:  0.797\n",
            "\n",
            "Class: French  |  Accuracy:  0.602\n",
            "\n",
            "Total Accuracy: 0.648\n"
          ],
          "name": "stdout"
        }
      ]
    },
    {
      "cell_type": "code",
      "metadata": {
        "id": "1czgyjqFCSDd",
        "colab": {
          "base_uri": "https://localhost:8080/"
        },
        "outputId": "93f465cb-9783-4969-f80b-7ee13b514894"
      },
      "source": [
        "predicted_labels = np.argmax(predictions, axis=1).flatten()\n",
        "predicted_labels"
      ],
      "execution_count": 31,
      "outputs": [
        {
          "output_type": "execute_result",
          "data": {
            "text/plain": [
              "array([0, 1, 2, ..., 2, 2, 1])"
            ]
          },
          "metadata": {
            "tags": []
          },
          "execution_count": 31
        }
      ]
    },
    {
      "cell_type": "code",
      "metadata": {
        "colab": {
          "base_uri": "https://localhost:8080/"
        },
        "id": "XrgseScY9wlb",
        "outputId": "a8f6afda-1698-4c0c-baf2-bd12330d82c7"
      },
      "source": [
        "len(validation_sentences) == len(predicted_labels)"
      ],
      "execution_count": 32,
      "outputs": [
        {
          "output_type": "execute_result",
          "data": {
            "text/plain": [
              "True"
            ]
          },
          "metadata": {
            "tags": []
          },
          "execution_count": 32
        }
      ]
    },
    {
      "cell_type": "markdown",
      "metadata": {
        "id": "HX8YLgIU8V3j"
      },
      "source": [
        "# Translation Models"
      ]
    },
    {
      "cell_type": "code",
      "metadata": {
        "id": "biGFRXUj8V3j"
      },
      "source": [
        "TRANS_ES = '/content/drive/MyDrive/DLProject/MLT_SPANISH/transformer.pth'\n",
        "BPE_GER = '/content/drive/MyDrive/DLProject/MLT_GERMAN/bpe.model'\n",
        "TRANS_GER = '/content/drive/MyDrive/DLProject/MLT_GERMAN/averaged_transformer_checkpoint.pth.tar'\n",
        "PY_ES = '/content/drive/MyDrive/DLProject/MLT_SPANISH/models.py'\n",
        "PY_GER = '/content/drive/MyDrive/DLProject/MLT_GERMAN/translate.py'\n",
        "MODEL_GER = '/content/drive/MyDrive/DLProject/MLT_GERMAN/model.py'\n",
        "ENC_FR = '/content/drive/MyDrive/DLProject/MLT_FRENCH/fr_encoder2.pth'\n",
        "DEC_FR = '/content/drive/MyDrive/DLProject/MLT_FRENCH/fr_decoder2.pth'\n",
        "PY_FR = '/content/drive/MyDrive/DLProject/MLT_FRENCH/mtl_fr.py'\n",
        "INP_FR = '/content/drive/MyDrive/DLProject/MLT_FRENCH/input_lang2.pkl'\n",
        "OUT_FR = '/content/drive/MyDrive/DLProject/MLT_FRENCH/output_lang2.pkl'"
      ],
      "execution_count": 33,
      "outputs": []
    },
    {
      "cell_type": "code",
      "metadata": {
        "id": "YKlCojQbEQ6B"
      },
      "source": [
        "!cp $PY_GER $MODEL_GER $TRANS_GER $BPE_GER $PY_ES $ENC_FR $DEC_FR $PY_FR $INP_FR $OUT_FR . "
      ],
      "execution_count": 34,
      "outputs": []
    },
    {
      "cell_type": "code",
      "metadata": {
        "colab": {
          "base_uri": "https://localhost:8080/"
        },
        "id": "YTa9fUwjFeVr",
        "outputId": "9adf0d9b-0030-42b9-93c7-f76fbfa015cd"
      },
      "source": [
        "!pip install youtokentome"
      ],
      "execution_count": 35,
      "outputs": [
        {
          "output_type": "stream",
          "text": [
            "Requirement already satisfied: youtokentome in /usr/local/lib/python3.7/dist-packages (1.0.6)\n",
            "Requirement already satisfied: Click>=7.0 in /usr/local/lib/python3.7/dist-packages (from youtokentome) (7.1.2)\n"
          ],
          "name": "stdout"
        }
      ]
    },
    {
      "cell_type": "code",
      "metadata": {
        "colab": {
          "base_uri": "https://localhost:8080/"
        },
        "id": "0mkWs019N1cy",
        "outputId": "044279a8-6a6c-440c-be71-9899c09752e9"
      },
      "source": [
        "!pip install einops"
      ],
      "execution_count": 36,
      "outputs": [
        {
          "output_type": "stream",
          "text": [
            "Requirement already satisfied: einops in /usr/local/lib/python3.7/dist-packages (0.3.0)\n"
          ],
          "name": "stdout"
        }
      ]
    },
    {
      "cell_type": "code",
      "metadata": {
        "id": "0zpUMUBb-sVf"
      },
      "source": [
        "def trans_ger(sentences):\n",
        "    from translate import translate\n",
        "    print('TRANSLATING 5 RANDOM SENTENCES TO GERMAN\\n')\n",
        "    sentences = sentences[:5]\n",
        "    for sentence in sentences:\n",
        "        best_hypothesis, all_hypotheses = translate(\n",
        "            source_sequence=sentence,\n",
        "        )\n",
        "        print(f'{sentence}\\t=>\\t{best_hypothesis}')"
      ],
      "execution_count": 55,
      "outputs": []
    },
    {
      "cell_type": "code",
      "metadata": {
        "id": "omWdDAmk-yFw"
      },
      "source": [
        "def trans_fr(sentences):\n",
        "    print('TRANSLATING 5 RANDOM SENTENCES TO FRENCH\\n')\n",
        "    import dill\n",
        "    from mtl_fr import EncoderRNN, AttnDecoderRNN, normalizeString, evaluate as french_eval\n",
        "    with open('input_lang2.pkl', 'rb') as in_strm:\n",
        "        fr_inp = dill.load(in_strm)\n",
        "    with open('output_lang2.pkl', 'rb') as in_strm:\n",
        "        fr_out = dill.load(in_strm)\n",
        "    hidden_size = 256\n",
        "    enc = EncoderRNN(fr_inp.n_words, hidden_size).to(device)\n",
        "    enc.load_state_dict(torch.load('./fr_encoder2.pth'))\n",
        "    dec = AttnDecoderRNN(hidden_size, fr_out.n_words, dropout_p=0.1).to(device)\n",
        "    dec.load_state_dict(torch.load('./fr_decoder2.pth'))\n",
        "    for sentence in sentences[:2]:\n",
        "        norm = normalizeString(sentence)\n",
        "        words, _ = french_eval(enc, dec, norm, input_lang=fr_inp, output_lang=fr_out)\n",
        "        print(f'{sentence}\\t=>\\t{\" \".join(words)}')\n",
        "    pass"
      ],
      "execution_count": 62,
      "outputs": []
    },
    {
      "cell_type": "code",
      "metadata": {
        "id": "3IxKJu1w-2Iq"
      },
      "source": [
        "def validate(valid_loader, model, criterion):\n",
        "    model.eval()\n",
        "    predictions = []\n",
        "    for step, data_dict in enumerate(iter(valid_loader)):\n",
        "        with torch.no_grad():\n",
        "            src, tgt, src_key_padding_mask, tgt_key_padding_mask = (\n",
        "                data_dict[\"ids1\"],\n",
        "                data_dict[\"ids2\"],\n",
        "                data_dict[\"masks_sent1\"],\n",
        "                data_dict[\"masks_sent2\"],\n",
        "            )\n",
        "            src, src_key_padding_mask = src.to(\"cuda\"), src_key_padding_mask.to(\"cuda\")\n",
        "            tgt, tgt_key_padding_mask = tgt.to(\"cuda\"), tgt_key_padding_mask.to(\"cuda\")\n",
        "            memory_key_padding_mask = src_key_padding_mask.clone()\n",
        "            tgt_inp = tgt[:, :-1]\n",
        "            tgt_out = tgt[:, 1:].contiguous()\n",
        "            tgt_mask = gen_nopeek_mask(tgt_inp.shape[1]).to(\"cuda\")\n",
        "            outputs = model(\n",
        "                src,\n",
        "                tgt_inp,\n",
        "                src_key_padding_mask,\n",
        "                tgt_key_padding_mask[:, :-1],\n",
        "                memory_key_padding_mask,\n",
        "                tgt_mask,\n",
        "            )\n",
        "            print(hi)\n",
        "            print(outputs)\n",
        "    #         loss, logits, label_ids = loss_logits_labels(inputs, outputs)\n",
        "    #         predictions.append(logits)\n",
        "\n",
        "    # predictions = np.concatenate(logits, axis=0)\n",
        "    # preds_flat = np.argmax(preds, axis=1).flatten()\n",
        "    # for i in range(val_len):\n",
        "    #     print(f'{validation_sentences[i]} => {preds}')\n",
        "\n",
        "def trans_es(sentences):\n",
        "    pass\n",
        "    # import torch.nn as nn\n",
        "    # from torch.utils.data import Dataset\n",
        "    # from torch.optim import Adam\n",
        "    # from transformers import RobertaTokenizer\n",
        "    # from models import ParallelLanguageDataset, LanguageTransformer, ScheduledOptim\n",
        "    \n",
        "    # sentences = sentences[:2]\n",
        "    # PRE_TRAINED_MODEL_NAME = \"distilroberta-base\"\n",
        "    # tokenizer = RobertaTokenizer.from_pretrained(PRE_TRAINED_MODEL_NAME)\n",
        "    # valid_dataset = ParallelLanguageDataset(\n",
        "    #     data_path_1=sentences,\n",
        "    #     data_path_2=None,\n",
        "    #     tokenizer=tokenizer,\n",
        "    #     max_len=96,\n",
        "    # )\n",
        "    # valid_loader = DataLoader(\n",
        "    #         valid_dataset,\n",
        "    #         batch_size=1,\n",
        "    #         shuffle=True,\n",
        "    #         num_workers=2,\n",
        "    #         pin_memory=True,\n",
        "    # )\n",
        "    # d_model = 512\n",
        "    # num_encoder_layers = 6\n",
        "    # num_decoder_layers = 6\n",
        "    # dim_feedforward = 2048\n",
        "    # nhead = 8\n",
        "    # pos_dropout = 0.1\n",
        "    # n_warmup_steps = 2000\n",
        "    # trans_dropout = 0.1\n",
        "\n",
        "    # model = LanguageTransformer(\n",
        "    #         tokenizer.vocab_size,\n",
        "    #         d_model,\n",
        "    #         nhead,\n",
        "    #         num_encoder_layers,\n",
        "    #         num_decoder_layers,\n",
        "    #         dim_feedforward,\n",
        "    #         96,\n",
        "    #         pos_dropout,\n",
        "    #         trans_dropout,\n",
        "    # ).to(device)\n",
        "\n",
        "    # optim = ScheduledOptim(Adam(model.parameters(), betas=(0.9, 0.98), eps=1e-09), d_model, n_warmup_steps)\n",
        "    # criterion = nn.CrossEntropyLoss(ignore_index=0)\n",
        "    # validate(valid_loader, model, criterion)\n"
      ],
      "execution_count": 63,
      "outputs": []
    },
    {
      "cell_type": "code",
      "metadata": {
        "colab": {
          "base_uri": "https://localhost:8080/"
        },
        "id": "n1N9T87M8V3k",
        "outputId": "9ae5d47c-d9c1-4ada-a494-c357a4e2edb5"
      },
      "source": [
        "# GERMAN_SENTENCES = predicted_labels == labels_dict['German']\n",
        "TRANSLATOR_DICT = {\n",
        "    labels_dict['German']: trans_ger,\n",
        "    labels_dict['French']: trans_fr,\n",
        "    labels_dict['Spanish']: trans_es    \n",
        "}\n",
        "TRANSLATOR_DICT"
      ],
      "execution_count": 64,
      "outputs": [
        {
          "output_type": "execute_result",
          "data": {
            "text/plain": [
              "{0: <function __main__.trans_ger>,\n",
              " 1: <function __main__.trans_es>,\n",
              " 2: <function __main__.trans_fr>}"
            ]
          },
          "metadata": {
            "tags": []
          },
          "execution_count": 64
        }
      ]
    },
    {
      "cell_type": "code",
      "metadata": {
        "colab": {
          "base_uri": "https://localhost:8080/"
        },
        "id": "0zAfujONAHhK",
        "outputId": "82645d56-a3e7-4501-fc7a-0e96f3885a6d"
      },
      "source": [
        "SENTENCES_DICT = {\n",
        "    labels_dict['German']: [],\n",
        "    labels_dict['French']: [],\n",
        "    labels_dict['Spanish']: []\n",
        "}\n",
        "SENTENCES_DICT"
      ],
      "execution_count": 65,
      "outputs": [
        {
          "output_type": "execute_result",
          "data": {
            "text/plain": [
              "{0: [], 1: [], 2: []}"
            ]
          },
          "metadata": {
            "tags": []
          },
          "execution_count": 65
        }
      ]
    },
    {
      "cell_type": "code",
      "metadata": {
        "colab": {
          "base_uri": "https://localhost:8080/"
        },
        "id": "rsgtjTVo-OrD",
        "outputId": "d5a90766-3d6d-4c76-e7e6-11c7ed93e8ca"
      },
      "source": [
        "val_len = len(validation_sentences)\n",
        "for i in range(val_len):\n",
        "    SENTENCES_DICT[predicted_labels[i]].append(validation_sentences[i])\n",
        "len(SENTENCES_DICT[0]), len(SENTENCES_DICT[1]), len(SENTENCES_DICT[2])"
      ],
      "execution_count": 66,
      "outputs": [
        {
          "output_type": "execute_result",
          "data": {
            "text/plain": [
              "(1687, 5602, 2403)"
            ]
          },
          "metadata": {
            "tags": []
          },
          "execution_count": 66
        }
      ]
    },
    {
      "cell_type": "code",
      "metadata": {
        "colab": {
          "base_uri": "https://localhost:8080/"
        },
        "id": "5-CWamI5A8zP",
        "outputId": "0d9c072c-3cbe-4033-e7e0-5fbf7a8d2769"
      },
      "source": [
        "for k,v in SENTENCES_DICT.items():\n",
        "    print('\\n----------------------------------------------------------------------------------------')\n",
        "    TRANSLATOR_DICT[k](v)\n",
        "    print('\\n----------------------------------------------------------------------------------------\\n')"
      ],
      "execution_count": 67,
      "outputs": [
        {
          "output_type": "stream",
          "text": [
            "\n",
            "----------------------------------------------------------------------------------------\n",
            "TRANSLATING 5 RANDOM SENTENCES TO GERMAN\n",
            "\n",
            "Hello,\t=>\tHallo!\n",
            "So i began to learn japanese - by myself.\t=>\tAlso fing ich an, Japanisch zu lernen - von mir.\n",
            "At the moment I can all the kana and about 200 kanji.\t=>\tIm Moment kann ich alle kana und etwa 200 kanji.\n",
            "My english teacher can't really help me...\t=>\tMein Englischlehrer kann mir nicht wirklich helfen...\n",
            "こんばんは\t=>\t► Nachrichten \n",
            "\n",
            "----------------------------------------------------------------------------------------\n",
            "\n",
            "\n",
            "----------------------------------------------------------------------------------------\n",
            "TRANSLATING 5 RANDOM SENTENCES TO FRENCH\n",
            "\n",
            "I had for about four years english now.\t=>\tj ai les des des des . . . <EOS>\n",
            "I feel guilty, but I don't know why.\t=>\tje ai simplement pourquoi je n connais . <EOS>\n",
            "\n",
            "----------------------------------------------------------------------------------------\n",
            "\n",
            "\n",
            "----------------------------------------------------------------------------------------\n",
            "\n",
            "----------------------------------------------------------------------------------------\n",
            "\n"
          ],
          "name": "stdout"
        }
      ]
    },
    {
      "cell_type": "code",
      "metadata": {
        "id": "UurShoMBPn-w"
      },
      "source": [
        ""
      ],
      "execution_count": 67,
      "outputs": []
    }
  ]
}