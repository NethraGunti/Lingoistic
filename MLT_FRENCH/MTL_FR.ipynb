{
  "nbformat": 4,
  "nbformat_minor": 0,
  "metadata": {
    "colab": {
      "name": "MTL_FR.ipynb",
      "provenance": [],
      "collapsed_sections": []
    },
    "kernelspec": {
      "name": "python3",
      "display_name": "Python 3"
    },
    "language_info": {
      "name": "python"
    },
    "accelerator": "GPU"
  },
  "cells": [
    {
      "cell_type": "code",
      "metadata": {
        "colab": {
          "base_uri": "https://localhost:8080/"
        },
        "id": "pWFD8m8wAI2T",
        "outputId": "a7372d87-bb6e-4c18-d28c-94e07392e50b"
      },
      "source": [
        "from google.colab import drive\n",
        "drive.mount('/content/drive/')"
      ],
      "execution_count": null,
      "outputs": [
        {
          "output_type": "stream",
          "text": [
            "Mounted at /content/drive/\n"
          ],
          "name": "stdout"
        }
      ]
    },
    {
      "cell_type": "code",
      "metadata": {
        "id": "2w1OFnpsGtEV"
      },
      "source": [
        "!cp /content/drive/MyDrive/DL/Project/raw.zip ."
      ],
      "execution_count": null,
      "outputs": []
    },
    {
      "cell_type": "code",
      "metadata": {
        "colab": {
          "base_uri": "https://localhost:8080/"
        },
        "id": "yeME21G-GvDV",
        "outputId": "c30dad18-affd-4546-e5c1-6f31b0926e64"
      },
      "source": [
        "!unzip raw.zip"
      ],
      "execution_count": null,
      "outputs": [
        {
          "output_type": "stream",
          "text": [
            "Archive:  raw.zip\n",
            "   creating: raw/\n",
            "  inflating: raw/french.txt          \n",
            "  inflating: raw/english.txt         \n",
            "  inflating: raw/fra.txt             \n"
          ],
          "name": "stdout"
        }
      ]
    },
    {
      "cell_type": "code",
      "metadata": {
        "id": "CPz4dZhiHXAT"
      },
      "source": [
        "import pandas as pd\n",
        "from typing import List\n",
        "import torch"
      ],
      "execution_count": null,
      "outputs": []
    },
    {
      "cell_type": "code",
      "metadata": {
        "id": "pfNN4f2hGvmt"
      },
      "source": [
        "with open(\"./raw/english.txt\", \"r\") as e_open:\n",
        "    with open(\"./raw/french.txt\", \"r\") as f_open:\n",
        "        ''' Delimiter lambda function '''\n",
        "        func = lambda txt : txt[:-1]\n",
        "        eng, fr = list(map(func, e_open.readlines())), list(map(func, f_open.readlines()))\n",
        "        assert len(eng) == len(fr), \"Lengths of source and target must be same\"\n",
        "        \n",
        "        data = {'eng' : eng, 'fr' : fr}\n",
        "        ds = pd.DataFrame(data = data)\n",
        "        \n",
        "        ''' Write the data to a csv file '''\n",
        "        ds.to_csv(\"./eng-fr.csv\")"
      ],
      "execution_count": null,
      "outputs": []
    },
    {
      "cell_type": "code",
      "metadata": {
        "id": "XvTLwWtLHR8y"
      },
      "source": [
        "from __future__ import unicode_literals, print_function, division\n",
        "from io import open\n",
        "import unicodedata\n",
        "import string\n",
        "import re\n",
        "import random\n",
        "\n",
        "import torch\n",
        "import torch.nn as nn\n",
        "from torch import optim\n",
        "import torch.nn.functional as F"
      ],
      "execution_count": null,
      "outputs": []
    },
    {
      "cell_type": "code",
      "metadata": {
        "id": "vZ7stnVHHgK0"
      },
      "source": [
        "device = torch.device(\"cuda\" if torch.cuda.is_available() else \"cpu\")"
      ],
      "execution_count": null,
      "outputs": []
    },
    {
      "cell_type": "code",
      "metadata": {
        "id": "WesbpJGzHiSI"
      },
      "source": [
        "SOS_token = 0\n",
        "EOS_token = 1"
      ],
      "execution_count": null,
      "outputs": []
    },
    {
      "cell_type": "code",
      "metadata": {
        "id": "KqBTUNg3HqLJ"
      },
      "source": [
        "class Lang:\n",
        "    def __init__(self, name):\n",
        "        self.name = name\n",
        "        self.word2index = {}\n",
        "        self.word2count = {}\n",
        "        self.index2word = {0: \"SOS\", 1: \"EOS\"}\n",
        "        self.n_words = 2  # Count SOS and EOS\n",
        "\n",
        "    def addSentence(self, sentence):\n",
        "        for word in sentence.split(' '):\n",
        "            self.addWord(word)\n",
        "\n",
        "    def addWord(self, word):\n",
        "        if word not in self.word2index:\n",
        "            self.word2index[word] = self.n_words\n",
        "            self.word2count[word] = 1\n",
        "            self.index2word[self.n_words] = word\n",
        "            self.n_words += 1\n",
        "        else:\n",
        "            self.word2count[word] += 1"
      ],
      "execution_count": null,
      "outputs": []
    },
    {
      "cell_type": "code",
      "metadata": {
        "id": "ofY96PrJHwMq"
      },
      "source": [
        "def unicodeToAscii(s):\n",
        "    return ''.join(\n",
        "        c for c in unicodedata.normalize('NFD', s)\n",
        "        if unicodedata.category(c) != 'Mn'\n",
        "    )\n",
        "\n",
        "# Lowercase, trim, and remove non-letter characters\n",
        "\n",
        "\n",
        "def normalizeString(s):\n",
        "    s = unicodeToAscii(s.lower().strip())\n",
        "    s = re.sub(r\"([.!?])\", r\" \\1\", s)\n",
        "    s = re.sub(r\"[^a-zA-Z.!?]+\", r\" \", s)\n",
        "    return s"
      ],
      "execution_count": null,
      "outputs": []
    },
    {
      "cell_type": "code",
      "metadata": {
        "id": "cqPyHxraHzFk"
      },
      "source": [
        "def readLangs(df, lang1, lang2, reverse=False):\n",
        "    print(\"Reading lines...\")\n",
        "\n",
        "    # Read the file and split into lines\n",
        "    # Split every line into pairs and normalize\n",
        "    pairs = [[normalizeString(inp), normalizeString(trg)] for _, inp, trg in df.itertuples()]\n",
        "\n",
        "    # Reverse pairs, make Lang instances\n",
        "    if reverse:\n",
        "        pairs = [list(reversed(p)) for p in pairs]\n",
        "        input_lang = Lang(lang2)\n",
        "        output_lang = Lang(lang1)\n",
        "    else:\n",
        "        input_lang = Lang(lang1)\n",
        "        output_lang = Lang(lang2)\n",
        "\n",
        "    return input_lang, output_lang, pairs"
      ],
      "execution_count": null,
      "outputs": []
    },
    {
      "cell_type": "code",
      "metadata": {
        "id": "4CdiQTZfItwr"
      },
      "source": [
        "MAX_LENGTH = 30\n",
        "\n",
        "eng_prefixes = (\n",
        "    \"i am \", \"i m \",\n",
        "    \"he is\", \"he s \",\n",
        "    \"she is\", \"she s \",\n",
        "    \"you are\", \"you re \",\n",
        "    \"we are\", \"we re \",\n",
        "    \"they are\", \"they re \"\n",
        ")"
      ],
      "execution_count": null,
      "outputs": []
    },
    {
      "cell_type": "code",
      "metadata": {
        "id": "cxMq-oj5IvFC"
      },
      "source": [
        "def filterPair(p):\n",
        "    return len(p[0].split(' ')) < MAX_LENGTH and \\\n",
        "        len(p[1].split(' ')) < MAX_LENGTH #and \\\n",
        "        # p[1].startswith(eng_prefixes)\n",
        "\n",
        "\n",
        "def filterPairs(pairs):\n",
        "    return [pair for pair in pairs if filterPair(pair)]"
      ],
      "execution_count": null,
      "outputs": []
    },
    {
      "cell_type": "code",
      "metadata": {
        "id": "LkW1BJUMI5py"
      },
      "source": [
        "def prepareData(df, lang1, lang2, reverse=False):\n",
        "    input_lang, output_lang, pairs = readLangs(df, lang1, lang2, reverse)\n",
        "    print(\"Read %s sentence pairs\" % len(pairs))\n",
        "    pairs = filterPairs(pairs)\n",
        "    print(\"Trimmed to %s sentence pairs\" % len(pairs))\n",
        "    print(\"Counting words...\")\n",
        "    for pair in pairs:\n",
        "        input_lang.addSentence(pair[0])\n",
        "        output_lang.addSentence(pair[1])\n",
        "    print(\"Counted words:\")\n",
        "    print(input_lang.name, input_lang.n_words)\n",
        "    print(output_lang.name, output_lang.n_words)\n",
        "    return input_lang, output_lang, pairs\n"
      ],
      "execution_count": null,
      "outputs": []
    },
    {
      "cell_type": "code",
      "metadata": {
        "colab": {
          "base_uri": "https://localhost:8080/"
        },
        "id": "tN37L4XAN9Et",
        "outputId": "2b59acce-6d8c-4364-92a0-cdb683647a9e"
      },
      "source": [
        "input_lang, output_lang, pairs = prepareData(ds, 'eng', 'fra', False)\n",
        "print(random.choice(pairs))"
      ],
      "execution_count": null,
      "outputs": [
        {
          "output_type": "stream",
          "text": [
            "Reading lines...\n",
            "Read 170651 sentence pairs\n",
            "Trimmed to 170600 sentence pairs\n",
            "Counting words...\n",
            "Counted words:\n",
            "eng 13737\n",
            "fra 22586\n",
            "['tom is here for the weekend .', 'tom est la pour le week end .']\n"
          ],
          "name": "stdout"
        }
      ]
    },
    {
      "cell_type": "code",
      "metadata": {
        "colab": {
          "base_uri": "https://localhost:8080/"
        },
        "id": "1CdsWtDrMCPc",
        "outputId": "bd0beb15-d7f6-45ac-e256-c7a3fb561fb5"
      },
      "source": [
        "# _, _, pairs=readLangs(x,'eng', 'fra')"
      ],
      "execution_count": null,
      "outputs": [
        {
          "output_type": "stream",
          "text": [
            "Reading lines...\n"
          ],
          "name": "stdout"
        }
      ]
    },
    {
      "cell_type": "code",
      "metadata": {
        "id": "xFKIDLZYNRaG",
        "colab": {
          "base_uri": "https://localhost:8080/"
        },
        "outputId": "e8d8d2e8-f835-4b6e-b148-cf914757eb1d"
      },
      "source": [
        "pairs[:10]"
      ],
      "execution_count": null,
      "outputs": [
        {
          "output_type": "execute_result",
          "data": {
            "text/plain": [
              "[['go .', 'va !'],\n",
              " ['hi .', 'salut !'],\n",
              " ['hi .', 'salut .'],\n",
              " ['run !', 'cours !'],\n",
              " ['run !', 'courez !'],\n",
              " ['who ?', 'qui ?'],\n",
              " ['wow !', 'ca alors !'],\n",
              " ['fire !', 'au feu !'],\n",
              " ['help !', 'a l aide !'],\n",
              " ['jump .', 'saute .']]"
            ]
          },
          "metadata": {
            "tags": []
          },
          "execution_count": 16
        }
      ]
    },
    {
      "cell_type": "code",
      "metadata": {
        "colab": {
          "base_uri": "https://localhost:8080/"
        },
        "id": "t1GqCoxINqiT",
        "outputId": "ba8391f0-6175-4a72-94d8-830077dcdcdb"
      },
      "source": [
        "filterPair(pairs[0])"
      ],
      "execution_count": null,
      "outputs": [
        {
          "output_type": "execute_result",
          "data": {
            "text/plain": [
              "True"
            ]
          },
          "metadata": {
            "tags": []
          },
          "execution_count": 17
        }
      ]
    },
    {
      "cell_type": "code",
      "metadata": {
        "id": "XXFjA9ZZNu9h"
      },
      "source": [
        "class EncoderRNN(nn.Module):\n",
        "    def __init__(self, input_size, hidden_size):\n",
        "        super(EncoderRNN, self).__init__()\n",
        "        self.hidden_size = hidden_size\n",
        "\n",
        "        self.embedding = nn.Embedding(input_size, hidden_size)\n",
        "        self.gru = nn.GRU(hidden_size, hidden_size)\n",
        "\n",
        "    def forward(self, input, hidden):\n",
        "        embedded = self.embedding(input).view(1, 1, -1)\n",
        "        output = embedded\n",
        "        output, hidden = self.gru(output, hidden)\n",
        "        return output, hidden\n",
        "\n",
        "    def initHidden(self):\n",
        "        return torch.zeros(1, 1, self.hidden_size, device=device)"
      ],
      "execution_count": null,
      "outputs": []
    },
    {
      "cell_type": "code",
      "metadata": {
        "id": "kvU1yZwGcMNy"
      },
      "source": [
        "class AttnDecoderRNN(nn.Module):\n",
        "    def __init__(self, hidden_size, output_size, dropout_p=0.1, max_length=MAX_LENGTH):\n",
        "        super(AttnDecoderRNN, self).__init__()\n",
        "        self.hidden_size = hidden_size\n",
        "        self.output_size = output_size\n",
        "        self.dropout_p = dropout_p\n",
        "        self.max_length = max_length\n",
        "\n",
        "        self.embedding = nn.Embedding(self.output_size, self.hidden_size)\n",
        "        self.attn = nn.Linear(self.hidden_size * 2, self.max_length)\n",
        "        self.attn_combine = nn.Linear(self.hidden_size * 2, self.hidden_size)\n",
        "        self.dropout = nn.Dropout(self.dropout_p)\n",
        "        self.gru = nn.GRU(self.hidden_size, self.hidden_size)\n",
        "        self.out = nn.Linear(self.hidden_size, self.output_size)\n",
        "\n",
        "    def forward(self, input, hidden, encoder_outputs):\n",
        "        embedded = self.embedding(input).view(1, 1, -1)\n",
        "        embedded = self.dropout(embedded)\n",
        "\n",
        "        attn_weights = F.softmax(\n",
        "            self.attn(torch.cat((embedded[0], hidden[0]), 1)), dim=1)\n",
        "        attn_applied = torch.bmm(attn_weights.unsqueeze(0),\n",
        "                                 encoder_outputs.unsqueeze(0))\n",
        "\n",
        "        output = torch.cat((embedded[0], attn_applied[0]), 1)\n",
        "        output = self.attn_combine(output).unsqueeze(0)\n",
        "\n",
        "        output = F.relu(output)\n",
        "        output, hidden = self.gru(output, hidden)\n",
        "\n",
        "        output = F.log_softmax(self.out(output[0]), dim=1)\n",
        "        return output, hidden, attn_weights\n",
        "\n",
        "    def initHidden(self):\n",
        "        return torch.zeros(1, 1, self.hidden_size, device=device)"
      ],
      "execution_count": null,
      "outputs": []
    },
    {
      "cell_type": "code",
      "metadata": {
        "id": "vEhqOw8Zco1A"
      },
      "source": [
        "def indexesFromSentence(lang, sentence):\n",
        "    return [lang.word2index[word] for word in sentence.split(' ')]\n",
        "\n",
        "\n",
        "def tensorFromSentence(lang, sentence):\n",
        "    indexes = indexesFromSentence(lang, sentence)\n",
        "    indexes.append(EOS_token)\n",
        "    return torch.tensor(indexes, dtype=torch.long, device=device).view(-1, 1)\n",
        "\n",
        "\n",
        "def tensorsFromPair(pair):\n",
        "    input_tensor = tensorFromSentence(input_lang, pair[0])\n",
        "    target_tensor = tensorFromSentence(output_lang, pair[1])\n",
        "    return (input_tensor, target_tensor)"
      ],
      "execution_count": null,
      "outputs": []
    },
    {
      "cell_type": "code",
      "metadata": {
        "id": "TxS7mhPMcsWZ"
      },
      "source": [
        "teacher_forcing_ratio = 0.5"
      ],
      "execution_count": null,
      "outputs": []
    },
    {
      "cell_type": "code",
      "metadata": {
        "id": "oMihV0brguqb"
      },
      "source": [
        "training_pairs = tensorsFromPair(random.choice(pairs))"
      ],
      "execution_count": null,
      "outputs": []
    },
    {
      "cell_type": "code",
      "metadata": {
        "colab": {
          "base_uri": "https://localhost:8080/"
        },
        "id": "Mk1kfm0_g4y3",
        "outputId": "bc2f4f42-9561-4db4-8a91-4d4a2bc0e0d5"
      },
      "source": [
        "training_pairs"
      ],
      "execution_count": null,
      "outputs": [
        {
          "output_type": "execute_result",
          "data": {
            "text/plain": [
              "(tensor([[ 47],\n",
              "         [643],\n",
              "         [227],\n",
              "         [562],\n",
              "         [276],\n",
              "         [238],\n",
              "         [337],\n",
              "         [  3],\n",
              "         [  1]], device='cuda:0'), tensor([[ 102],\n",
              "         [  88],\n",
              "         [  14],\n",
              "         [ 165],\n",
              "         [  76],\n",
              "         [5823],\n",
              "         [ 750],\n",
              "         [   5],\n",
              "         [   1]], device='cuda:0'))"
            ]
          },
          "metadata": {
            "tags": []
          },
          "execution_count": 26
        }
      ]
    },
    {
      "cell_type": "code",
      "metadata": {
        "id": "ZwfUMiQQf4Av"
      },
      "source": [
        "from torch.utils.data import DataLoader, RandomSampler, SequentialSampler\n",
        "\n",
        "batch_size = 64\n",
        "train_loader = DataLoader(\n",
        "    training_pairs,\n",
        "    sampler=RandomSampler(training_pairs),\n",
        "    batch_size=batch_size,\n",
        "    drop_last=True\n",
        ")\n"
      ],
      "execution_count": null,
      "outputs": []
    },
    {
      "cell_type": "code",
      "metadata": {
        "id": "PYZNmF5tc06V"
      },
      "source": [
        "def train(input_tensor, target_tensor, encoder, decoder, encoder_optimizer, decoder_optimizer, criterion, max_length=MAX_LENGTH):\n",
        "    # model.train()\n",
        "    encoder_hidden = encoder.initHidden()\n",
        "\n",
        "    encoder_optimizer.zero_grad()\n",
        "    decoder_optimizer.zero_grad()\n",
        "\n",
        "    input_length = input_tensor.size(0)\n",
        "    target_length = target_tensor.size(0)\n",
        "\n",
        "    encoder_outputs = torch.zeros(max_length, encoder.hidden_size, device=device)\n",
        "\n",
        "    loss = 0\n",
        "\n",
        "    for ei in range(input_length):\n",
        "        encoder_output, encoder_hidden = encoder(\n",
        "            input_tensor[ei], encoder_hidden)\n",
        "        encoder_outputs[ei] = encoder_output[0, 0]\n",
        "\n",
        "    decoder_input = torch.tensor([[SOS_token]], device=device)\n",
        "\n",
        "    decoder_hidden = encoder_hidden\n",
        "\n",
        "    use_teacher_forcing = True if random.random() < teacher_forcing_ratio else False\n",
        "\n",
        "    if use_teacher_forcing:\n",
        "        # Teacher forcing: Feed the target as the next input\n",
        "        for di in range(target_length):\n",
        "            decoder_output, decoder_hidden, decoder_attention = decoder(\n",
        "                decoder_input, decoder_hidden, encoder_outputs)\n",
        "            loss += criterion(decoder_output, target_tensor[di])\n",
        "            decoder_input = target_tensor[di]  # Teacher forcing\n",
        "\n",
        "    else:\n",
        "        # Without teacher forcing: use its own predictions as the next input\n",
        "        for di in range(target_length):\n",
        "            decoder_output, decoder_hidden, decoder_attention = decoder(\n",
        "                decoder_input, decoder_hidden, encoder_outputs)\n",
        "            topv, topi = decoder_output.topk(1)\n",
        "            decoder_input = topi.squeeze().detach()  # detach from history as input\n",
        "\n",
        "            loss += criterion(decoder_output, target_tensor[di])\n",
        "            if decoder_input.item() == EOS_token:\n",
        "                break\n",
        "\n",
        "    loss.backward()\n",
        "\n",
        "    encoder_optimizer.step()\n",
        "    decoder_optimizer.step()\n",
        "\n",
        "    return loss.item() / target_length"
      ],
      "execution_count": null,
      "outputs": []
    },
    {
      "cell_type": "code",
      "metadata": {
        "id": "cdva_q7_hr0O"
      },
      "source": [
        "import time\n",
        "import math\n",
        "\n",
        "\n",
        "def asMinutes(s):\n",
        "    m = math.floor(s / 60)\n",
        "    s -= m * 60\n",
        "    return '%dm %ds' % (m, s)\n",
        "\n",
        "\n",
        "def timeSince(since, percent):\n",
        "    now = time.time()\n",
        "    s = now - since\n",
        "    es = s / (percent)\n",
        "    rs = es - s\n",
        "    return '%s (- %s)' % (asMinutes(s), asMinutes(rs))"
      ],
      "execution_count": null,
      "outputs": []
    },
    {
      "cell_type": "code",
      "metadata": {
        "id": "dt-Ilj2FdezK"
      },
      "source": [
        "def trainIters(encoder, decoder, n_iters, print_every=1000, plot_every=100, learning_rate=0.01):\n",
        "    start = time.time()\n",
        "    plot_losses = []\n",
        "    print_loss_total = 0  # Reset every print_every\n",
        "    plot_loss_total = 0  # Reset every plot_every\n",
        "\n",
        "    encoder_optimizer = optim.SGD(encoder.parameters(), lr=learning_rate)\n",
        "    decoder_optimizer = optim.SGD(decoder.parameters(), lr=learning_rate)\n",
        "    training_pairs = [tensorsFromPair(random.choice(pairs))\n",
        "                      for i in range(n_iters)]\n",
        "    criterion = nn.NLLLoss()\n",
        "\n",
        "    for iter in range(1, n_iters + 1):\n",
        "        training_pair = training_pairs[iter - 1]\n",
        "        input_tensor = training_pair[0]\n",
        "        target_tensor = training_pair[1]\n",
        "\n",
        "        loss = train(input_tensor, target_tensor, encoder,\n",
        "                     decoder, encoder_optimizer, decoder_optimizer, criterion)\n",
        "        print_loss_total += loss\n",
        "        plot_loss_total += loss\n",
        "\n",
        "        if iter % print_every == 0:\n",
        "            print_loss_avg = print_loss_total / print_every\n",
        "            print_loss_total = 0\n",
        "            print(f'{timeSince(start, iter / n_iters)} ({iter} -- {iter / n_iters * 100}%) {print_loss_avg:.4f}')\n",
        "\n",
        "        if iter % plot_every == 0:\n",
        "            plot_loss_avg = plot_loss_total / plot_every\n",
        "            plot_losses.append(plot_loss_avg)\n",
        "            plot_loss_total = 0\n",
        "\n",
        "    showPlot(plot_losses)"
      ],
      "execution_count": null,
      "outputs": []
    },
    {
      "cell_type": "code",
      "metadata": {
        "id": "5Jcs8YzJeJqN"
      },
      "source": [
        "import matplotlib.pyplot as plt\n",
        "%matplotlib inline\n",
        "import matplotlib.ticker as ticker\n",
        "import numpy as np\n",
        "\n",
        "\n",
        "def showPlot(points):\n",
        "    plt.figure()\n",
        "    fig, ax = plt.subplots()\n",
        "    # this locator puts ticks at regular intervals\n",
        "    loc = ticker.MultipleLocator(base=0.2)\n",
        "    ax.yaxis.set_major_locator(loc)\n",
        "    plt.plot(points)"
      ],
      "execution_count": null,
      "outputs": []
    },
    {
      "cell_type": "code",
      "metadata": {
        "id": "3KUEbK93pPr7"
      },
      "source": [
        "def evaluate(encoder, decoder, sentence, max_length=MAX_LENGTH):\n",
        "    # model.eval()\n",
        "    with torch.no_grad():\n",
        "        input_tensor = tensorFromSentence(input_lang, sentence)\n",
        "        input_length = input_tensor.size()[0]\n",
        "        encoder_hidden = encoder.initHidden()\n",
        "\n",
        "        encoder_outputs = torch.zeros(max_length, encoder.hidden_size, device=device)\n",
        "\n",
        "        for ei in range(input_length):\n",
        "            encoder_output, encoder_hidden = encoder(input_tensor[ei],\n",
        "                                                     encoder_hidden)\n",
        "            encoder_outputs[ei] += encoder_output[0, 0]\n",
        "\n",
        "        decoder_input = torch.tensor([[SOS_token]], device=device)  # SOS\n",
        "\n",
        "        decoder_hidden = encoder_hidden\n",
        "\n",
        "        decoded_words = []\n",
        "        decoder_attentions = torch.zeros(max_length, max_length)\n",
        "\n",
        "        for di in range(max_length):\n",
        "            decoder_output, decoder_hidden, decoder_attention = decoder(\n",
        "                decoder_input, decoder_hidden, encoder_outputs)\n",
        "            decoder_attentions[di] = decoder_attention.data\n",
        "            topv, topi = decoder_output.data.topk(1)\n",
        "            if topi.item() == EOS_token:\n",
        "                decoded_words.append('<EOS>')\n",
        "                break\n",
        "            else:\n",
        "                decoded_words.append(output_lang.index2word[topi.item()])\n",
        "\n",
        "            decoder_input = topi.squeeze().detach()\n",
        "\n",
        "        return decoded_words, decoder_attentions[:di + 1]"
      ],
      "execution_count": null,
      "outputs": []
    },
    {
      "cell_type": "code",
      "metadata": {
        "id": "ANamStVjpYT6"
      },
      "source": [
        "def evaluateRandomly(encoder, decoder, n=10):\n",
        "    for i in range(n):\n",
        "        pair = random.choice(pairs)\n",
        "        print('>', pair[0])\n",
        "        print('=', pair[1])\n",
        "        output_words, attentions = evaluate(encoder, decoder, pair[0])\n",
        "        output_sentence = ' '.join(output_words)\n",
        "        print('<', output_sentence)\n",
        "        print('')"
      ],
      "execution_count": null,
      "outputs": []
    },
    {
      "cell_type": "code",
      "metadata": {
        "colab": {
          "base_uri": "https://localhost:8080/"
        },
        "id": "lAL7d3dlpawU",
        "outputId": "a8a85a53-4e57-46cc-8952-4933c4703c2a"
      },
      "source": [
        "hidden_size = 256\n",
        "encoder1 = EncoderRNN(input_lang.n_words, hidden_size).to(device)\n",
        "attn_decoder1 = AttnDecoderRNN(hidden_size, output_lang.n_words, dropout_p=0.1).to(device)\n",
        "\n",
        "trainIters(encoder1, attn_decoder1, 170600, print_every=5000)"
      ],
      "execution_count": null,
      "outputs": [
        {
          "output_type": "stream",
          "text": [
            "1m 57s (- 64m 45s) (5000 -- 2.9308323563892147%) 4.7653\n",
            "3m 47s (- 60m 57s) (10000 -- 5.861664712778429%) 4.2278\n",
            "5m 39s (- 58m 37s) (15000 -- 8.792497069167643%) 3.9511\n",
            "7m 31s (- 56m 42s) (20000 -- 11.723329425556859%) 3.7830\n",
            "9m 24s (- 54m 49s) (25000 -- 14.654161781946073%) 3.6443\n",
            "11m 18s (- 53m 1s) (30000 -- 17.584994138335286%) 3.5431\n",
            "13m 12s (- 51m 11s) (35000 -- 20.5158264947245%) 3.4790\n",
            "15m 7s (- 49m 23s) (40000 -- 23.446658851113718%) 3.4222\n",
            "17m 0s (- 47m 28s) (45000 -- 26.377491207502928%) 3.3284\n",
            "18m 54s (- 45m 37s) (50000 -- 29.308323563892145%) 3.2946\n",
            "20m 48s (- 43m 44s) (55000 -- 32.23915592028136%) 3.2390\n",
            "22m 43s (- 41m 52s) (60000 -- 35.16998827667057%) 3.2077\n",
            "24m 36s (- 39m 58s) (65000 -- 38.10082063305979%) 3.2214\n",
            "26m 30s (- 38m 5s) (70000 -- 41.031652989449%) 3.1747\n",
            "28m 24s (- 36m 12s) (75000 -- 43.96248534583822%) 3.1458\n",
            "30m 18s (- 34m 19s) (80000 -- 46.893317702227435%) 3.1426\n",
            "32m 12s (- 32m 26s) (85000 -- 49.824150058616645%) 3.1093\n",
            "34m 5s (- 30m 32s) (90000 -- 52.754982415005856%) 3.0825\n",
            "36m 0s (- 28m 39s) (95000 -- 55.68581477139508%) 3.1260\n",
            "37m 55s (- 26m 46s) (100000 -- 58.61664712778429%) 3.1224\n",
            "39m 49s (- 24m 52s) (105000 -- 61.54747948417351%) 3.1193\n",
            "41m 42s (- 22m 58s) (110000 -- 64.47831184056272%) 3.1260\n",
            "43m 36s (- 21m 4s) (115000 -- 67.40914419695193%) 3.1525\n",
            "45m 29s (- 19m 10s) (120000 -- 70.33997655334115%) 3.1530\n",
            "47m 22s (- 17m 17s) (125000 -- 73.27080890973036%) 3.2719\n",
            "49m 15s (- 15m 23s) (130000 -- 76.20164126611958%) 3.3365\n",
            "51m 8s (- 13m 29s) (135000 -- 79.1324736225088%) 3.4417\n",
            "52m 59s (- 11m 34s) (140000 -- 82.063305978898%) 3.5830\n",
            "54m 49s (- 9m 40s) (145000 -- 84.99413833528722%) 3.7470\n",
            "56m 39s (- 7m 46s) (150000 -- 87.92497069167644%) 3.9471\n",
            "58m 29s (- 5m 53s) (155000 -- 90.85580304806565%) 3.8298\n",
            "60m 18s (- 3m 59s) (160000 -- 93.78663540445487%) 3.7427\n",
            "62m 8s (- 2m 6s) (165000 -- 96.71746776084407%) 3.8470\n",
            "63m 57s (- 0m 13s) (170000 -- 99.64830011723329%) 3.7566\n"
          ],
          "name": "stdout"
        }
      ]
    },
    {
      "cell_type": "code",
      "metadata": {
        "colab": {
          "base_uri": "https://localhost:8080/"
        },
        "id": "SuO3uTAvqWGx",
        "outputId": "7b4539e3-51e5-4882-98d1-dbad618d0e24"
      },
      "source": [
        "for epoch in range(2,4):\n",
        "    print(f\"\\n\\nEpoch {epoch}\")\n",
        "    trainIters(encoder1, attn_decoder1, 85000, print_every=5000)"
      ],
      "execution_count": null,
      "outputs": [
        {
          "output_type": "stream",
          "text": [
            "\n",
            "\n",
            "Epoch 2\n",
            "1m 55s (- 30m 44s) (5000 -- 5.88235294117647%) 3.6847\n",
            "3m 44s (- 28m 6s) (10000 -- 11.76470588235294%) 3.7953\n",
            "5m 34s (- 26m 1s) (15000 -- 17.647058823529413%) 3.6921\n",
            "7m 24s (- 24m 3s) (20000 -- 23.52941176470588%) 3.6455\n",
            "9m 13s (- 22m 8s) (25000 -- 29.411764705882355%) 3.6099\n",
            "11m 2s (- 20m 14s) (30000 -- 35.294117647058826%) 3.5232\n",
            "12m 51s (- 18m 22s) (35000 -- 41.17647058823529%) 3.4861\n",
            "14m 40s (- 16m 30s) (40000 -- 47.05882352941176%) 3.5124\n",
            "16m 31s (- 14m 41s) (45000 -- 52.94117647058824%) 3.5377\n",
            "18m 20s (- 12m 50s) (50000 -- 58.82352941176471%) 3.4783\n",
            "20m 9s (- 10m 59s) (55000 -- 64.70588235294117%) 3.4910\n",
            "21m 59s (- 9m 9s) (60000 -- 70.58823529411765%) 3.4526\n",
            "23m 48s (- 7m 19s) (65000 -- 76.47058823529412%) 3.4311\n",
            "25m 39s (- 5m 29s) (70000 -- 82.35294117647058%) 3.4595\n",
            "27m 31s (- 3m 40s) (75000 -- 88.23529411764706%) 3.4872\n",
            "29m 21s (- 1m 50s) (80000 -- 94.11764705882352%) 3.3878\n",
            "31m 12s (- 0m 0s) (85000 -- 100.0%) 3.4026\n",
            "\n",
            "\n",
            "Epoch 3\n",
            "1m 54s (- 30m 26s) (5000 -- 5.88235294117647%) 3.3745\n",
            "3m 45s (- 28m 10s) (10000 -- 11.76470588235294%) 3.4034\n",
            "5m 36s (- 26m 9s) (15000 -- 17.647058823529413%) 3.3666\n",
            "7m 26s (- 24m 11s) (20000 -- 23.52941176470588%) 3.3670\n",
            "9m 17s (- 22m 18s) (25000 -- 29.411764705882355%) 3.3420\n",
            "11m 8s (- 20m 25s) (30000 -- 35.294117647058826%) 3.3217\n",
            "12m 59s (- 18m 33s) (35000 -- 41.17647058823529%) 3.2918\n",
            "14m 51s (- 16m 42s) (40000 -- 47.05882352941176%) 3.3320\n",
            "16m 42s (- 14m 50s) (45000 -- 52.94117647058824%) 3.3153\n",
            "18m 34s (- 12m 59s) (50000 -- 58.82352941176471%) 3.2642\n",
            "20m 25s (- 11m 8s) (55000 -- 64.70588235294117%) 3.2667\n",
            "22m 16s (- 9m 16s) (60000 -- 70.58823529411765%) 3.2788\n",
            "24m 8s (- 7m 25s) (65000 -- 76.47058823529412%) 3.2887\n",
            "25m 59s (- 5m 34s) (70000 -- 82.35294117647058%) 3.2255\n",
            "27m 50s (- 3m 42s) (75000 -- 88.23529411764706%) 3.2278\n",
            "29m 42s (- 1m 51s) (80000 -- 94.11764705882352%) 3.2113\n",
            "31m 33s (- 0m 0s) (85000 -- 100.0%) 3.2426\n"
          ],
          "name": "stdout"
        }
      ]
    },
    {
      "cell_type": "code",
      "metadata": {
        "colab": {
          "base_uri": "https://localhost:8080/"
        },
        "id": "6_aYwNC95QJL",
        "outputId": "88d1cd0e-a392-4c61-b2e6-32525e464f71"
      },
      "source": [
        "evaluateRandomly(encoder1, attn_decoder1)"
      ],
      "execution_count": null,
      "outputs": [
        {
          "output_type": "stream",
          "text": [
            "> he bores everybody .\n",
            "= il ennuie tout le monde .\n",
            "< il tout le monde . <EOS>\n",
            "\n",
            "> i don t go to school anymore .\n",
            "= je ne vais plus a l ecole .\n",
            "< je ne vais pas avec moi . <EOS>\n",
            "\n",
            "> i was impressed with her work .\n",
            "= je fus impressionne par son travail .\n",
            "< j ai ete avec son travail . <EOS>\n",
            "\n",
            "> there is no hope .\n",
            "= il n y a pas d espoir .\n",
            "< il n y pas pas pas pas pas pas pas pas pas pas pas pas pas pas pas pas pas pas pas pas pas pas pas pas pas pas pas\n",
            "\n",
            "> tom came yesterday .\n",
            "= tom est venu hier .\n",
            "< tom hier de hier . <EOS>\n",
            "\n",
            "> i m very grateful for what you ve done .\n",
            "= je suis tres reconnaissante de ce que tu as fait .\n",
            "< je vous ai fait pour vous vous vous vous vous vous vous vous vous vous vous vous vous vous vous vous vous vous vous vous vous vous vous vous vous\n",
            "\n",
            "> she wants to meet him again .\n",
            "= elle veut le rencontrer a nouveau .\n",
            "< elle veut de nouveau . <EOS>\n",
            "\n",
            "> this rug was made without the use of child labor .\n",
            "= ce tapis est confectionne sans employer d enfants .\n",
            "< ce que etait sans sans le sans sans sans sans sans sans sans sans sans sans sans sans sans sans sans sans sans sans sans sans sans sans sans sans\n",
            "\n",
            "> we actually saw the accident .\n",
            "= nous avons reellement vu l accident .\n",
            "< nous avons vu un accident . <EOS>\n",
            "\n",
            "> i knew tom was a bad loser .\n",
            "= je savais que tom etait mauvais perdant .\n",
            "< je savais un enfant . <EOS>\n",
            "\n"
          ],
          "name": "stdout"
        }
      ]
    },
    {
      "cell_type": "code",
      "metadata": {
        "id": "WuLL3z13JBWK",
        "colab": {
          "base_uri": "https://localhost:8080/"
        },
        "outputId": "91695724-f19e-4d7b-d7b6-0963c9a62e4d"
      },
      "source": [
        "for param_tensor in attn_decoder1.state_dict():\n",
        "    print(param_tensor, \"\\t\",attn_decoder1.state_dict()[param_tensor].size())"
      ],
      "execution_count": null,
      "outputs": [
        {
          "output_type": "stream",
          "text": [
            "embedding.weight \t torch.Size([22586, 256])\n",
            "attn.weight \t torch.Size([30, 512])\n",
            "attn.bias \t torch.Size([30])\n",
            "attn_combine.weight \t torch.Size([256, 512])\n",
            "attn_combine.bias \t torch.Size([256])\n",
            "gru.weight_ih_l0 \t torch.Size([768, 256])\n",
            "gru.weight_hh_l0 \t torch.Size([768, 256])\n",
            "gru.bias_ih_l0 \t torch.Size([768])\n",
            "gru.bias_hh_l0 \t torch.Size([768])\n",
            "out.weight \t torch.Size([22586, 256])\n",
            "out.bias \t torch.Size([22586])\n"
          ],
          "name": "stdout"
        }
      ]
    },
    {
      "cell_type": "code",
      "metadata": {
        "id": "4xrR_Vb1Of6Y"
      },
      "source": [
        "torch.save(encoder1.state_dict(), \"fr_encoder.pth\")"
      ],
      "execution_count": null,
      "outputs": []
    },
    {
      "cell_type": "code",
      "metadata": {
        "id": "pvL8TfB1O3Kj"
      },
      "source": [
        "torch.save(encoder1.state_dict(), \"fr_decoder.pth\")"
      ],
      "execution_count": null,
      "outputs": []
    },
    {
      "cell_type": "code",
      "metadata": {
        "id": "ID-Ujln9O6_p"
      },
      "source": [
        "!cp fr_* \"/content/drive/MyDrive/DL/Project/weights/MTL_FR\" "
      ],
      "execution_count": null,
      "outputs": []
    },
    {
      "cell_type": "code",
      "metadata": {
        "colab": {
          "base_uri": "https://localhost:8080/"
        },
        "id": "QwgpzNL9Pjjo",
        "outputId": "28dbd534-089f-4393-8906-06e4fbf619b3"
      },
      "source": [
        "!ls fr_*"
      ],
      "execution_count": null,
      "outputs": [
        {
          "output_type": "stream",
          "text": [
            "fr_decoder.pth\tfr_encoder.pth\n"
          ],
          "name": "stdout"
        }
      ]
    },
    {
      "cell_type": "code",
      "metadata": {
        "id": "YbqFIhyoPoFN"
      },
      "source": [
        ""
      ],
      "execution_count": null,
      "outputs": []
    }
  ]
}